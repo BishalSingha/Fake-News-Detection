{
  "cells": [
    {
      "cell_type": "code",
      "execution_count": 1,
      "metadata": {
        "id": "6mOJ1VkZkNb3",
        "colab": {
          "base_uri": "https://localhost:8080/"
        },
        "outputId": "fad4ccf7-0cb6-4691-b600-7b13853a98e2"
      },
      "outputs": [
        {
          "output_type": "stream",
          "name": "stderr",
          "text": [
            "/usr/local/lib/python3.7/dist-packages/statsmodels/tools/_testing.py:19: FutureWarning: pandas.util.testing is deprecated. Use the functions in the public API at pandas.testing instead.\n",
            "  import pandas.util.testing as tm\n"
          ]
        }
      ],
      "source": [
        "#Importing all the dependancies\n",
        "import pandas as pd\n",
        "import numpy as np\n",
        "import matplotlib.pyplot as plt\n",
        "from nltk.corpus import stopwords\n",
        "from nltk.stem.porter import PorterStemmer\n",
        "from sklearn.feature_extraction.text import TfidfVectorizer\n",
        "from sklearn.metrics import accuracy_score\n",
        "from sklearn.linear_model import LogisticRegression\n",
        "from sklearn.model_selection import train_test_split,cross_val_score\n",
        "from sklearn.feature_selection import f_classif\n",
        "from sklearn.preprocessing import LabelEncoder, StandardScaler, MinMaxScaler\n",
        "from sklearn.model_selection import cross_val_score\n",
        "from sklearn.model_selection import StratifiedKFold\n",
        "from sklearn import metrics\n",
        "from scipy import stats\n",
        "import statsmodels.api as sm\n",
        "import math\n",
        "import re\n",
        "import seaborn as sns\n",
        "from statsmodels.stats.outliers_influence import variance_inflation_factor\n",
        "import sys\n",
        "import pandas.core.algorithms as algos\n",
        "pd.pandas.set_option('display.max_columns',None)"
      ]
    },
    {
      "cell_type": "code",
      "execution_count": 2,
      "metadata": {
        "colab": {
          "base_uri": "https://localhost:8080/"
        },
        "id": "dT_XRDKckNb7",
        "outputId": "935de4ef-993a-4679-eae4-4c03a4526931"
      },
      "outputs": [
        {
          "output_type": "stream",
          "name": "stdout",
          "text": [
            "Looking in indexes: https://pypi.org/simple, https://us-python.pkg.dev/colab-wheels/public/simple/\n",
            "Collecting scikit-optimize\n",
            "  Downloading scikit_optimize-0.9.0-py2.py3-none-any.whl (100 kB)\n",
            "\u001b[K     |████████████████████████████████| 100 kB 3.9 MB/s \n",
            "\u001b[?25hRequirement already satisfied: joblib>=0.11 in /usr/local/lib/python3.7/dist-packages (from scikit-optimize) (1.1.0)\n",
            "Requirement already satisfied: scikit-learn>=0.20.0 in /usr/local/lib/python3.7/dist-packages (from scikit-optimize) (1.0.2)\n",
            "Collecting pyaml>=16.9\n",
            "  Downloading pyaml-21.10.1-py2.py3-none-any.whl (24 kB)\n",
            "Requirement already satisfied: numpy>=1.13.3 in /usr/local/lib/python3.7/dist-packages (from scikit-optimize) (1.21.6)\n",
            "Requirement already satisfied: scipy>=0.19.1 in /usr/local/lib/python3.7/dist-packages (from scikit-optimize) (1.7.3)\n",
            "Requirement already satisfied: PyYAML in /usr/local/lib/python3.7/dist-packages (from pyaml>=16.9->scikit-optimize) (3.13)\n",
            "Requirement already satisfied: threadpoolctl>=2.0.0 in /usr/local/lib/python3.7/dist-packages (from scikit-learn>=0.20.0->scikit-optimize) (3.1.0)\n",
            "Installing collected packages: pyaml, scikit-optimize\n",
            "Successfully installed pyaml-21.10.1 scikit-optimize-0.9.0\n"
          ]
        }
      ],
      "source": [
        "pip install scikit-optimize"
      ]
    },
    {
      "cell_type": "code",
      "execution_count": 3,
      "metadata": {
        "colab": {
          "base_uri": "https://localhost:8080/"
        },
        "id": "m6nXr3ZMkNb9",
        "outputId": "e5ff6d19-caaa-48e0-aa4f-8447305ef915"
      },
      "outputs": [
        {
          "output_type": "stream",
          "name": "stderr",
          "text": [
            "[nltk_data] Downloading package stopwords to /root/nltk_data...\n",
            "[nltk_data]   Unzipping corpora/stopwords.zip.\n"
          ]
        },
        {
          "output_type": "execute_result",
          "data": {
            "text/plain": [
              "True"
            ]
          },
          "metadata": {},
          "execution_count": 3
        }
      ],
      "source": [
        "import nltk\n",
        "nltk.download('stopwords')"
      ]
    },
    {
      "cell_type": "code",
      "source": [
        "from google.colab import drive\n",
        "drive.mount('/content/drive')"
      ],
      "metadata": {
        "colab": {
          "base_uri": "https://localhost:8080/"
        },
        "id": "7Pf7Puj2FP4R",
        "outputId": "027e0ad0-ae7a-4842-9d9a-234ad0e0bc8f"
      },
      "execution_count": 4,
      "outputs": [
        {
          "output_type": "stream",
          "name": "stdout",
          "text": [
            "Mounted at /content/drive\n"
          ]
        }
      ]
    },
    {
      "cell_type": "code",
      "execution_count": 5,
      "metadata": {
        "id": "5Ucc7DCxkNb-"
      },
      "outputs": [],
      "source": [
        "#Loading Dataset\n",
        "df = pd.read_csv('/content/drive/MyDrive/train.csv')\n",
        "#test_data = pd.read_csv('E:\\Fake News Detection/test.csv')\n",
        "#submit = pd.read_csv('E:\\Fake News Detection/submit.csv')\n",
        "#df = pd.read_csv('train.csv')"
      ]
    },
    {
      "cell_type": "code",
      "execution_count": 6,
      "metadata": {
        "colab": {
          "base_uri": "https://localhost:8080/",
          "height": 206
        },
        "id": "45bh6hUzkNcA",
        "outputId": "e0350267-cb0b-4ce7-8497-0e7ead6517fa"
      },
      "outputs": [
        {
          "output_type": "execute_result",
          "data": {
            "text/plain": [
              "   id                                              title              author  \\\n",
              "0   0  House Dem Aide: We Didn’t Even See Comey’s Let...       Darrell Lucus   \n",
              "1   1  FLYNN: Hillary Clinton, Big Woman on Campus - ...     Daniel J. Flynn   \n",
              "2   2                  Why the Truth Might Get You Fired  Consortiumnews.com   \n",
              "3   3  15 Civilians Killed In Single US Airstrike Hav...     Jessica Purkiss   \n",
              "4   4  Iranian woman jailed for fictional unpublished...      Howard Portnoy   \n",
              "\n",
              "                                                text  label  \n",
              "0  House Dem Aide: We Didn’t Even See Comey’s Let...      1  \n",
              "1  Ever get the feeling your life circles the rou...      0  \n",
              "2  Why the Truth Might Get You Fired October 29, ...      1  \n",
              "3  Videos 15 Civilians Killed In Single US Airstr...      1  \n",
              "4  Print \\nAn Iranian woman has been sentenced to...      1  "
            ],
            "text/html": [
              "\n",
              "  <div id=\"df-a7765467-be74-42f5-b6f0-df2e6c28479e\">\n",
              "    <div class=\"colab-df-container\">\n",
              "      <div>\n",
              "<style scoped>\n",
              "    .dataframe tbody tr th:only-of-type {\n",
              "        vertical-align: middle;\n",
              "    }\n",
              "\n",
              "    .dataframe tbody tr th {\n",
              "        vertical-align: top;\n",
              "    }\n",
              "\n",
              "    .dataframe thead th {\n",
              "        text-align: right;\n",
              "    }\n",
              "</style>\n",
              "<table border=\"1\" class=\"dataframe\">\n",
              "  <thead>\n",
              "    <tr style=\"text-align: right;\">\n",
              "      <th></th>\n",
              "      <th>id</th>\n",
              "      <th>title</th>\n",
              "      <th>author</th>\n",
              "      <th>text</th>\n",
              "      <th>label</th>\n",
              "    </tr>\n",
              "  </thead>\n",
              "  <tbody>\n",
              "    <tr>\n",
              "      <th>0</th>\n",
              "      <td>0</td>\n",
              "      <td>House Dem Aide: We Didn’t Even See Comey’s Let...</td>\n",
              "      <td>Darrell Lucus</td>\n",
              "      <td>House Dem Aide: We Didn’t Even See Comey’s Let...</td>\n",
              "      <td>1</td>\n",
              "    </tr>\n",
              "    <tr>\n",
              "      <th>1</th>\n",
              "      <td>1</td>\n",
              "      <td>FLYNN: Hillary Clinton, Big Woman on Campus - ...</td>\n",
              "      <td>Daniel J. Flynn</td>\n",
              "      <td>Ever get the feeling your life circles the rou...</td>\n",
              "      <td>0</td>\n",
              "    </tr>\n",
              "    <tr>\n",
              "      <th>2</th>\n",
              "      <td>2</td>\n",
              "      <td>Why the Truth Might Get You Fired</td>\n",
              "      <td>Consortiumnews.com</td>\n",
              "      <td>Why the Truth Might Get You Fired October 29, ...</td>\n",
              "      <td>1</td>\n",
              "    </tr>\n",
              "    <tr>\n",
              "      <th>3</th>\n",
              "      <td>3</td>\n",
              "      <td>15 Civilians Killed In Single US Airstrike Hav...</td>\n",
              "      <td>Jessica Purkiss</td>\n",
              "      <td>Videos 15 Civilians Killed In Single US Airstr...</td>\n",
              "      <td>1</td>\n",
              "    </tr>\n",
              "    <tr>\n",
              "      <th>4</th>\n",
              "      <td>4</td>\n",
              "      <td>Iranian woman jailed for fictional unpublished...</td>\n",
              "      <td>Howard Portnoy</td>\n",
              "      <td>Print \\nAn Iranian woman has been sentenced to...</td>\n",
              "      <td>1</td>\n",
              "    </tr>\n",
              "  </tbody>\n",
              "</table>\n",
              "</div>\n",
              "      <button class=\"colab-df-convert\" onclick=\"convertToInteractive('df-a7765467-be74-42f5-b6f0-df2e6c28479e')\"\n",
              "              title=\"Convert this dataframe to an interactive table.\"\n",
              "              style=\"display:none;\">\n",
              "        \n",
              "  <svg xmlns=\"http://www.w3.org/2000/svg\" height=\"24px\"viewBox=\"0 0 24 24\"\n",
              "       width=\"24px\">\n",
              "    <path d=\"M0 0h24v24H0V0z\" fill=\"none\"/>\n",
              "    <path d=\"M18.56 5.44l.94 2.06.94-2.06 2.06-.94-2.06-.94-.94-2.06-.94 2.06-2.06.94zm-11 1L8.5 8.5l.94-2.06 2.06-.94-2.06-.94L8.5 2.5l-.94 2.06-2.06.94zm10 10l.94 2.06.94-2.06 2.06-.94-2.06-.94-.94-2.06-.94 2.06-2.06.94z\"/><path d=\"M17.41 7.96l-1.37-1.37c-.4-.4-.92-.59-1.43-.59-.52 0-1.04.2-1.43.59L10.3 9.45l-7.72 7.72c-.78.78-.78 2.05 0 2.83L4 21.41c.39.39.9.59 1.41.59.51 0 1.02-.2 1.41-.59l7.78-7.78 2.81-2.81c.8-.78.8-2.07 0-2.86zM5.41 20L4 18.59l7.72-7.72 1.47 1.35L5.41 20z\"/>\n",
              "  </svg>\n",
              "      </button>\n",
              "      \n",
              "  <style>\n",
              "    .colab-df-container {\n",
              "      display:flex;\n",
              "      flex-wrap:wrap;\n",
              "      gap: 12px;\n",
              "    }\n",
              "\n",
              "    .colab-df-convert {\n",
              "      background-color: #E8F0FE;\n",
              "      border: none;\n",
              "      border-radius: 50%;\n",
              "      cursor: pointer;\n",
              "      display: none;\n",
              "      fill: #1967D2;\n",
              "      height: 32px;\n",
              "      padding: 0 0 0 0;\n",
              "      width: 32px;\n",
              "    }\n",
              "\n",
              "    .colab-df-convert:hover {\n",
              "      background-color: #E2EBFA;\n",
              "      box-shadow: 0px 1px 2px rgba(60, 64, 67, 0.3), 0px 1px 3px 1px rgba(60, 64, 67, 0.15);\n",
              "      fill: #174EA6;\n",
              "    }\n",
              "\n",
              "    [theme=dark] .colab-df-convert {\n",
              "      background-color: #3B4455;\n",
              "      fill: #D2E3FC;\n",
              "    }\n",
              "\n",
              "    [theme=dark] .colab-df-convert:hover {\n",
              "      background-color: #434B5C;\n",
              "      box-shadow: 0px 1px 3px 1px rgba(0, 0, 0, 0.15);\n",
              "      filter: drop-shadow(0px 1px 2px rgba(0, 0, 0, 0.3));\n",
              "      fill: #FFFFFF;\n",
              "    }\n",
              "  </style>\n",
              "\n",
              "      <script>\n",
              "        const buttonEl =\n",
              "          document.querySelector('#df-a7765467-be74-42f5-b6f0-df2e6c28479e button.colab-df-convert');\n",
              "        buttonEl.style.display =\n",
              "          google.colab.kernel.accessAllowed ? 'block' : 'none';\n",
              "\n",
              "        async function convertToInteractive(key) {\n",
              "          const element = document.querySelector('#df-a7765467-be74-42f5-b6f0-df2e6c28479e');\n",
              "          const dataTable =\n",
              "            await google.colab.kernel.invokeFunction('convertToInteractive',\n",
              "                                                     [key], {});\n",
              "          if (!dataTable) return;\n",
              "\n",
              "          const docLinkHtml = 'Like what you see? Visit the ' +\n",
              "            '<a target=\"_blank\" href=https://colab.research.google.com/notebooks/data_table.ipynb>data table notebook</a>'\n",
              "            + ' to learn more about interactive tables.';\n",
              "          element.innerHTML = '';\n",
              "          dataTable['output_type'] = 'display_data';\n",
              "          await google.colab.output.renderOutput(dataTable, element);\n",
              "          const docLink = document.createElement('div');\n",
              "          docLink.innerHTML = docLinkHtml;\n",
              "          element.appendChild(docLink);\n",
              "        }\n",
              "      </script>\n",
              "    </div>\n",
              "  </div>\n",
              "  "
            ]
          },
          "metadata": {},
          "execution_count": 6
        }
      ],
      "source": [
        "df.head()"
      ]
    },
    {
      "cell_type": "markdown",
      "metadata": {
        "id": "d1FTvF5lkNcC"
      },
      "source": [
        "#**Data Preprocessing :**"
      ]
    },
    {
      "cell_type": "code",
      "execution_count": 7,
      "metadata": {
        "id": "5ACKwg1ekNcF"
      },
      "outputs": [],
      "source": [
        "df = df.fillna('')"
      ]
    },
    {
      "cell_type": "code",
      "execution_count": 8,
      "metadata": {
        "id": "xmKHP0_DkNcG"
      },
      "outputs": [],
      "source": [
        "#merging the train and test data across rows\n",
        "#df = pd.concat([train_data, test_data], axis = 'rows')\n",
        "#df.info()"
      ]
    },
    {
      "cell_type": "code",
      "execution_count": 9,
      "metadata": {
        "colab": {
          "base_uri": "https://localhost:8080/"
        },
        "id": "p3OlfM8JkNcJ",
        "outputId": "2fd75a7a-2dc6-48ee-c5a4-da29bc2c3530"
      },
      "outputs": [
        {
          "output_type": "execute_result",
          "data": {
            "text/plain": [
              "0    Darrell Lucus House Dem Aide: We Didn’t Even S...\n",
              "1    Daniel J. Flynn FLYNN: Hillary Clinton, Big Wo...\n",
              "2    Consortiumnews.com Why the Truth Might Get You...\n",
              "3    Jessica Purkiss 15 Civilians Killed In Single ...\n",
              "4    Howard Portnoy Iranian woman jailed for fictio...\n",
              "Name: content, dtype: object"
            ]
          },
          "metadata": {},
          "execution_count": 9
        }
      ],
      "source": [
        "#merging the \"author\" and \"title\" columns to form \"Content\"\n",
        "df['content'] = df['author']+' '+df['title'] #+df['text']\n",
        "df['content'].head()"
      ]
    },
    {
      "cell_type": "code",
      "execution_count": 10,
      "metadata": {
        "id": "hmqj4ynvkNcM"
      },
      "outputs": [],
      "source": [
        "# separating the data & label\n",
        "X = df.drop(columns='label', axis=1)\n",
        "y = df['label']"
      ]
    },
    {
      "cell_type": "code",
      "execution_count": 11,
      "metadata": {
        "id": "CPFIPhBgkNcN"
      },
      "outputs": [],
      "source": [
        "#Defining a function \"clean\" to stem to the words in content\n",
        "from nltk.stem import WordNetLemmatizer\n",
        "\n",
        "stemmer = PorterStemmer()\n",
        "wordnet = WordNetLemmatizer\n",
        "def clean(text):\n",
        "    text=\"\".join([re.sub('[^a-zA-Z]',' ',char) for char in text])\n",
        "    text=text.lower()\n",
        "    text=text.split()\n",
        "    text=[stemmer.stem(word) for word in text if word not in set(stopwords.words(\"english\"))]\n",
        "    text=\" \".join(text)\n",
        "    return text"
      ]
    },
    {
      "cell_type": "code",
      "execution_count": 12,
      "metadata": {
        "id": "wsx3XXN1kNcO"
      },
      "outputs": [],
      "source": [
        "df['content'] = df['content'].apply(clean)"
      ]
    },
    {
      "cell_type": "code",
      "execution_count": 13,
      "metadata": {
        "colab": {
          "base_uri": "https://localhost:8080/"
        },
        "id": "1UlvWQqGkNcP",
        "outputId": "e22abcaf-8d9a-43bd-9377-26291d044e0a"
      },
      "outputs": [
        {
          "output_type": "stream",
          "name": "stdout",
          "text": [
            "0        darrel lucu hous dem aid even see comey letter...\n",
            "1        daniel j flynn flynn hillari clinton big woman...\n",
            "2                   consortiumnew com truth might get fire\n",
            "3        jessica purkiss civilian kill singl us airstri...\n",
            "4        howard portnoy iranian woman jail fiction unpu...\n",
            "                               ...                        \n",
            "20795    jerom hudson rapper trump poster child white s...\n",
            "20796    benjamin hoffman n f l playoff schedul matchup...\n",
            "20797    michael j de la merc rachel abram maci said re...\n",
            "20798    alex ansari nato russia hold parallel exercis ...\n",
            "20799                            david swanson keep f aliv\n",
            "Name: content, Length: 20800, dtype: object\n"
          ]
        }
      ],
      "source": [
        "print(df['content'])"
      ]
    },
    {
      "cell_type": "code",
      "execution_count": 14,
      "metadata": {
        "id": "1hylq5lAkNcR"
      },
      "outputs": [],
      "source": [
        "#Separating lables and values\n",
        "X = df['content'].values\n",
        "y = df['label'].values"
      ]
    },
    {
      "cell_type": "code",
      "execution_count": 15,
      "metadata": {
        "colab": {
          "base_uri": "https://localhost:8080/"
        },
        "id": "sp87Ef0tkNcT",
        "outputId": "63f395a6-22f2-49d4-b0a5-b02071c3f4b9"
      },
      "outputs": [
        {
          "output_type": "stream",
          "name": "stdout",
          "text": [
            "['darrel lucu hous dem aid even see comey letter jason chaffetz tweet'\n",
            " 'daniel j flynn flynn hillari clinton big woman campu breitbart'\n",
            " 'consortiumnew com truth might get fire' ...\n",
            " 'michael j de la merc rachel abram maci said receiv takeov approach hudson bay new york time'\n",
            " 'alex ansari nato russia hold parallel exercis balkan'\n",
            " 'david swanson keep f aliv']\n",
            "[1 0 1 ... 0 1 1]\n"
          ]
        }
      ],
      "source": [
        "print(X)\n",
        "print(y)"
      ]
    },
    {
      "cell_type": "code",
      "execution_count": 16,
      "metadata": {
        "id": "EQYx_u_ZkNcV",
        "outputId": "74a8319d-6454-43f0-f066-d07877f97554",
        "colab": {
          "base_uri": "https://localhost:8080/"
        }
      },
      "outputs": [
        {
          "output_type": "execute_result",
          "data": {
            "text/plain": [
              "(20800,)"
            ]
          },
          "metadata": {},
          "execution_count": 16
        }
      ],
      "source": [
        "y.shape"
      ]
    },
    {
      "cell_type": "code",
      "execution_count": 17,
      "metadata": {
        "id": "aQKDGQQUkNcW"
      },
      "outputs": [],
      "source": [
        "#Converting the textual data into numerical data using vertorizer\n",
        "vectorizer = TfidfVectorizer()\n",
        "vectorizer.fit(X)\n",
        "\n",
        "X = vectorizer.transform(X)"
      ]
    },
    {
      "cell_type": "code",
      "execution_count": null,
      "metadata": {
        "colab": {
          "base_uri": "https://localhost:8080/"
        },
        "id": "HMkQF-gskNcX",
        "outputId": "3261c862-6d1f-4205-d777-66e688433456"
      },
      "outputs": [
        {
          "output_type": "stream",
          "name": "stdout",
          "text": [
            "  (0, 15686)\t0.28485063562728646\n",
            "  (0, 13473)\t0.2565896679337957\n",
            "  (0, 8909)\t0.3635963806326075\n",
            "  (0, 8630)\t0.29212514087043684\n",
            "  (0, 7692)\t0.24785219520671603\n",
            "  (0, 7005)\t0.21874169089359144\n",
            "  (0, 4973)\t0.233316966909351\n",
            "  (0, 3792)\t0.2705332480845492\n",
            "  (0, 3600)\t0.3598939188262559\n",
            "  (0, 2959)\t0.2468450128533713\n",
            "  (0, 2483)\t0.3676519686797209\n",
            "  (0, 267)\t0.27010124977708766\n",
            "  (1, 16799)\t0.30071745655510157\n",
            "  (1, 6816)\t0.1904660198296849\n",
            "  (1, 5503)\t0.7143299355715573\n",
            "  (1, 3568)\t0.26373768806048464\n",
            "  (1, 2813)\t0.19094574062359204\n",
            "  (1, 2223)\t0.3827320386859759\n",
            "  (1, 1894)\t0.15521974226349364\n",
            "  (1, 1497)\t0.2939891562094648\n",
            "  (2, 15611)\t0.41544962664721613\n",
            "  (2, 9620)\t0.49351492943649944\n",
            "  (2, 5968)\t0.3474613386728292\n",
            "  (2, 5389)\t0.3866530551182615\n",
            "  (2, 3103)\t0.46097489583229645\n",
            "  :\t:\n",
            "  (20797, 13122)\t0.2482526352197606\n",
            "  (20797, 12344)\t0.27263457663336677\n",
            "  (20797, 12138)\t0.24778257724396507\n",
            "  (20797, 10306)\t0.08038079000566466\n",
            "  (20797, 9588)\t0.174553480255222\n",
            "  (20797, 9518)\t0.2954204003420313\n",
            "  (20797, 8988)\t0.36160868928090795\n",
            "  (20797, 8364)\t0.22322585870464118\n",
            "  (20797, 7042)\t0.21799048897828688\n",
            "  (20797, 3643)\t0.21155500613623743\n",
            "  (20797, 1287)\t0.33538056804139865\n",
            "  (20797, 699)\t0.30685846079762347\n",
            "  (20797, 43)\t0.29710241860700626\n",
            "  (20798, 13046)\t0.22363267488270608\n",
            "  (20798, 11052)\t0.4460515589182236\n",
            "  (20798, 10177)\t0.3192496370187028\n",
            "  (20798, 6889)\t0.32496285694299426\n",
            "  (20798, 5032)\t0.4083701450239529\n",
            "  (20798, 1125)\t0.4460515589182236\n",
            "  (20798, 588)\t0.3112141524638974\n",
            "  (20798, 350)\t0.28446937819072576\n",
            "  (20799, 14852)\t0.5677577267055112\n",
            "  (20799, 8036)\t0.45983893273780013\n",
            "  (20799, 3623)\t0.37927626273066584\n",
            "  (20799, 377)\t0.5677577267055112\n"
          ]
        }
      ],
      "source": [
        "print(X)"
      ]
    },
    {
      "cell_type": "code",
      "execution_count": 34,
      "metadata": {
        "id": "XECLTKtjkNcX"
      },
      "outputs": [],
      "source": [
        "#Splitting test and train data\n",
        "X_train, X_test, y_train, y_test = train_test_split(X, y, test_size = 0.2, stratify=y, random_state=42)\n",
        "#X_train, X_val, y_train, y_val = train_test_split(X_train, y_train, test_size = 0.25, stratify=y_train, random_state=42)"
      ]
    },
    {
      "cell_type": "markdown",
      "metadata": {
        "id": "o1dgmZr9kNcY"
      },
      "source": [
        "#**Implementing Logistic Regression :**"
      ]
    },
    {
      "cell_type": "code",
      "execution_count": null,
      "metadata": {
        "colab": {
          "base_uri": "https://localhost:8080/"
        },
        "id": "UkxkYAK8kNcZ",
        "outputId": "30dbf641-c200-454f-ca29-582fbb9b2767"
      },
      "outputs": [
        {
          "output_type": "execute_result",
          "data": {
            "text/plain": [
              "LogisticRegression()"
            ]
          },
          "metadata": {},
          "execution_count": 18
        }
      ],
      "source": [
        "model = LogisticRegression()\n",
        "model.fit(X_train, y_train)\n"
      ]
    },
    {
      "cell_type": "code",
      "execution_count": null,
      "metadata": {
        "colab": {
          "base_uri": "https://localhost:8080/"
        },
        "id": "OuklTYsokNcZ",
        "outputId": "6ca86cd6-99cf-4e4c-f549-ddb49409abbb"
      },
      "outputs": [
        {
          "output_type": "stream",
          "name": "stdout",
          "text": [
            "Accuracy score of the training data :  0.9850961538461539\n"
          ]
        }
      ],
      "source": [
        "# Accuracy score on the training data\n",
        "X_train_prediction = model.predict(X_train)\n",
        "training_data_accuracy = accuracy_score(X_train_prediction, y_train)\n",
        "print('Accuracy score of the training data : ', training_data_accuracy)"
      ]
    },
    {
      "cell_type": "code",
      "execution_count": null,
      "metadata": {
        "colab": {
          "base_uri": "https://localhost:8080/"
        },
        "id": "7WWua3EzkNca",
        "outputId": "33b1b338-d821-4a47-a312-a9b7aaf0733c"
      },
      "outputs": [
        {
          "output_type": "stream",
          "name": "stdout",
          "text": [
            "Accuracy score of the testing data : 0.9706730769230769\n"
          ]
        }
      ],
      "source": [
        "#Accuracy score on test data\n",
        "X_test_pred = model.predict(X_test)\n",
        "test_data_accuracy = accuracy_score(X_test_pred, y_test)\n",
        "print ('Accuracy score of the testing data :', test_data_accuracy)"
      ]
    },
    {
      "cell_type": "code",
      "execution_count": null,
      "metadata": {
        "colab": {
          "base_uri": "https://localhost:8080/"
        },
        "id": "BVaazoxckNcb",
        "outputId": "93f1aed2-4f2b-4d32-eb87-5df7fa0c62b4"
      },
      "outputs": [
        {
          "output_type": "execute_result",
          "data": {
            "text/plain": [
              "0.9670673076923076"
            ]
          },
          "metadata": {},
          "execution_count": 21
        }
      ],
      "source": [
        "#Implementing Bagging ensemble on Logistic Regression Classifier\n",
        "from sklearn.ensemble import BaggingClassifier\n",
        "bagging_clf = BaggingClassifier(base_estimator = LogisticRegression(), n_estimators = 1000, max_features = 15000, random_state = 42)\n",
        "bagging_clf.fit(X_train, y_train).score(X_test, y_test)"
      ]
    },
    {
      "cell_type": "markdown",
      "metadata": {
        "id": "DFtCpUamkNcc"
      },
      "source": [
        "#**Implementing XGBoost :**\n"
      ]
    },
    {
      "cell_type": "code",
      "execution_count": 19,
      "metadata": {
        "colab": {
          "base_uri": "https://localhost:8080/"
        },
        "id": "uBBenB6ukNcc",
        "outputId": "44bb3ade-4597-447c-b2bf-e772128a6416"
      },
      "outputs": [
        {
          "output_type": "stream",
          "name": "stdout",
          "text": [
            "Looking in indexes: https://pypi.org/simple, https://us-python.pkg.dev/colab-wheels/public/simple/\n",
            "Requirement already satisfied: xgboost in /usr/local/lib/python3.7/dist-packages (0.90)\n",
            "Requirement already satisfied: scipy in /usr/local/lib/python3.7/dist-packages (from xgboost) (1.7.3)\n",
            "Requirement already satisfied: numpy in /usr/local/lib/python3.7/dist-packages (from xgboost) (1.21.6)\n"
          ]
        }
      ],
      "source": [
        "pip install xgboost"
      ]
    },
    {
      "cell_type": "code",
      "execution_count": 20,
      "metadata": {
        "id": "eOk1DkaNkNcd"
      },
      "outputs": [],
      "source": [
        "import xgboost\n",
        "from sklearn.model_selection import GridSearchCV\n",
        "from sklearn.metrics import roc_auc_score\n",
        "from sklearn.metrics import accuracy_score\n",
        "from xgboost import XGBClassifier"
      ]
    },
    {
      "cell_type": "code",
      "execution_count": 21,
      "metadata": {
        "colab": {
          "base_uri": "https://localhost:8080/"
        },
        "id": "vm258Z6WkNcd",
        "outputId": "4066c245-45ea-4b66-b4ca-32a13bcf279f"
      },
      "outputs": [
        {
          "output_type": "execute_result",
          "data": {
            "text/plain": [
              "{'base_score': 0.5,\n",
              " 'booster': 'gbtree',\n",
              " 'colsample_bylevel': 1,\n",
              " 'colsample_bynode': 1,\n",
              " 'colsample_bytree': 1,\n",
              " 'gamma': 0,\n",
              " 'learning_rate': 0.1,\n",
              " 'max_delta_step': 0,\n",
              " 'max_depth': 3,\n",
              " 'min_child_weight': 1,\n",
              " 'missing': None,\n",
              " 'n_estimators': 100,\n",
              " 'n_jobs': 1,\n",
              " 'nthread': None,\n",
              " 'objective': 'binary:logistic',\n",
              " 'random_state': 0,\n",
              " 'reg_alpha': 0,\n",
              " 'reg_lambda': 1,\n",
              " 'scale_pos_weight': 1,\n",
              " 'seed': None,\n",
              " 'silent': None,\n",
              " 'subsample': 1,\n",
              " 'verbosity': 1}"
            ]
          },
          "metadata": {},
          "execution_count": 21
        }
      ],
      "source": [
        "XGBClassifier().get_params()"
      ]
    },
    {
      "cell_type": "code",
      "execution_count": 22,
      "metadata": {
        "colab": {
          "base_uri": "https://localhost:8080/"
        },
        "id": "pZdPEFSNkNce",
        "outputId": "c538e6fa-d7c6-467d-97b6-3cc4f7a5e13e"
      },
      "outputs": [
        {
          "output_type": "stream",
          "name": "stdout",
          "text": [
            "[0]\tvalidation_0-auc:0.928334\n",
            "Will train until validation_0-auc hasn't improved in 10 rounds.\n",
            "[1]\tvalidation_0-auc:0.931941\n",
            "[2]\tvalidation_0-auc:0.940995\n",
            "[3]\tvalidation_0-auc:0.940963\n",
            "[4]\tvalidation_0-auc:0.940914\n",
            "[5]\tvalidation_0-auc:0.940995\n",
            "[6]\tvalidation_0-auc:0.940994\n",
            "[7]\tvalidation_0-auc:0.941017\n",
            "[8]\tvalidation_0-auc:0.941013\n",
            "[9]\tvalidation_0-auc:0.946845\n",
            "[10]\tvalidation_0-auc:0.946845\n",
            "[11]\tvalidation_0-auc:0.946851\n",
            "[12]\tvalidation_0-auc:0.949459\n",
            "[13]\tvalidation_0-auc:0.951292\n",
            "[14]\tvalidation_0-auc:0.951272\n",
            "[15]\tvalidation_0-auc:0.951272\n",
            "[16]\tvalidation_0-auc:0.95133\n",
            "[17]\tvalidation_0-auc:0.951283\n",
            "[18]\tvalidation_0-auc:0.953413\n",
            "[19]\tvalidation_0-auc:0.955607\n",
            "[20]\tvalidation_0-auc:0.957032\n",
            "[21]\tvalidation_0-auc:0.958454\n",
            "[22]\tvalidation_0-auc:0.958468\n",
            "[23]\tvalidation_0-auc:0.96179\n",
            "[24]\tvalidation_0-auc:0.963639\n",
            "[25]\tvalidation_0-auc:0.963661\n",
            "[26]\tvalidation_0-auc:0.963738\n",
            "[27]\tvalidation_0-auc:0.965232\n",
            "[28]\tvalidation_0-auc:0.96727\n",
            "[29]\tvalidation_0-auc:0.971439\n",
            "[30]\tvalidation_0-auc:0.970865\n",
            "[31]\tvalidation_0-auc:0.971677\n",
            "[32]\tvalidation_0-auc:0.971675\n",
            "[33]\tvalidation_0-auc:0.971717\n",
            "[34]\tvalidation_0-auc:0.971789\n",
            "[35]\tvalidation_0-auc:0.971959\n",
            "[36]\tvalidation_0-auc:0.975239\n",
            "[37]\tvalidation_0-auc:0.976315\n",
            "[38]\tvalidation_0-auc:0.97731\n",
            "[39]\tvalidation_0-auc:0.97761\n",
            "[40]\tvalidation_0-auc:0.977619\n",
            "[41]\tvalidation_0-auc:0.978562\n",
            "[42]\tvalidation_0-auc:0.978635\n",
            "[43]\tvalidation_0-auc:0.981129\n",
            "[44]\tvalidation_0-auc:0.981925\n",
            "[45]\tvalidation_0-auc:0.981946\n",
            "[46]\tvalidation_0-auc:0.981964\n",
            "[47]\tvalidation_0-auc:0.982507\n",
            "[48]\tvalidation_0-auc:0.983591\n",
            "[49]\tvalidation_0-auc:0.983652\n",
            "[50]\tvalidation_0-auc:0.983926\n",
            "[51]\tvalidation_0-auc:0.984724\n",
            "[52]\tvalidation_0-auc:0.98475\n",
            "[53]\tvalidation_0-auc:0.9848\n",
            "[54]\tvalidation_0-auc:0.985026\n",
            "[55]\tvalidation_0-auc:0.98507\n",
            "[56]\tvalidation_0-auc:0.985062\n",
            "[57]\tvalidation_0-auc:0.985093\n",
            "[58]\tvalidation_0-auc:0.985125\n",
            "[59]\tvalidation_0-auc:0.985129\n",
            "[60]\tvalidation_0-auc:0.985187\n",
            "[61]\tvalidation_0-auc:0.985216\n",
            "[62]\tvalidation_0-auc:0.985231\n",
            "[63]\tvalidation_0-auc:0.985285\n",
            "[64]\tvalidation_0-auc:0.98532\n",
            "[65]\tvalidation_0-auc:0.985534\n",
            "[66]\tvalidation_0-auc:0.985526\n",
            "[67]\tvalidation_0-auc:0.985536\n",
            "[68]\tvalidation_0-auc:0.985528\n",
            "[69]\tvalidation_0-auc:0.985787\n",
            "[70]\tvalidation_0-auc:0.985841\n",
            "[71]\tvalidation_0-auc:0.987278\n",
            "[72]\tvalidation_0-auc:0.987246\n",
            "[73]\tvalidation_0-auc:0.987259\n",
            "[74]\tvalidation_0-auc:0.987307\n",
            "[75]\tvalidation_0-auc:0.987553\n",
            "[76]\tvalidation_0-auc:0.988219\n",
            "[77]\tvalidation_0-auc:0.98823\n",
            "[78]\tvalidation_0-auc:0.988239\n",
            "[79]\tvalidation_0-auc:0.988334\n",
            "[80]\tvalidation_0-auc:0.988369\n",
            "[81]\tvalidation_0-auc:0.988341\n",
            "[82]\tvalidation_0-auc:0.988497\n",
            "[83]\tvalidation_0-auc:0.988682\n",
            "[84]\tvalidation_0-auc:0.988916\n",
            "[85]\tvalidation_0-auc:0.990062\n",
            "[86]\tvalidation_0-auc:0.990112\n",
            "[87]\tvalidation_0-auc:0.990121\n",
            "[88]\tvalidation_0-auc:0.990708\n",
            "[89]\tvalidation_0-auc:0.990723\n",
            "[90]\tvalidation_0-auc:0.991036\n",
            "[91]\tvalidation_0-auc:0.991046\n",
            "[92]\tvalidation_0-auc:0.991972\n",
            "[93]\tvalidation_0-auc:0.991988\n",
            "[94]\tvalidation_0-auc:0.991998\n",
            "[95]\tvalidation_0-auc:0.992049\n",
            "[96]\tvalidation_0-auc:0.99206\n",
            "[97]\tvalidation_0-auc:0.99207\n",
            "[98]\tvalidation_0-auc:0.992082\n",
            "[99]\tvalidation_0-auc:0.992093\n"
          ]
        },
        {
          "output_type": "execute_result",
          "data": {
            "text/plain": [
              "XGBClassifier(eval_metric='auc')"
            ]
          },
          "metadata": {},
          "execution_count": 22
        }
      ],
      "source": [
        "model_xgboost = xgboost.XGBClassifier(n_estimators = 100,\n",
        "                                     eval_metric = 'auc')\n",
        "eval_set =[(X_val, y_val)]\n",
        "model_xgboost.fit(X_train,\n",
        "                  y_train,\n",
        "                  early_stopping_rounds=10,\n",
        "                  eval_set=eval_set,\n",
        "                  verbose=True)"
      ]
    },
    {
      "cell_type": "code",
      "execution_count": 23,
      "metadata": {
        "scrolled": true,
        "colab": {
          "base_uri": "https://localhost:8080/"
        },
        "id": "wDbYy3REkNce",
        "outputId": "f884cf85-0a1c-4b8e-a311-7ce0fc4fb7e9"
      },
      "outputs": [
        {
          "output_type": "stream",
          "name": "stdout",
          "text": [
            "AUC Train: 0.9945\n",
            "AUC Test: 0.9885\n",
            "Accuracy Train: 0.9554\n",
            "Accuracy Test: 0.9478\n"
          ]
        }
      ],
      "source": [
        "y_train_pred=model_xgboost.predict_proba(X_train)[:,1]\n",
        "y_test_pred=model_xgboost.predict_proba(X_test)[:,1]\n",
        "print(\"AUC Train: {:.4f}\\nAUC Test: {:.4f}\".format(roc_auc_score(y_train, y_train_pred),\n",
        "                                                    roc_auc_score(y_test, y_test_pred)))\n",
        "\n",
        "y_train_pred=model_xgboost.predict(X_train)\n",
        "y_test_pred=model_xgboost.predict(X_test)\n",
        "print(\"Accuracy Train: {:.4f}\\nAccuracy Test: {:.4f}\".format(accuracy_score(y_train, y_train_pred),\n",
        "                                                    accuracy_score(y_test, y_test_pred)))"
      ]
    },
    {
      "cell_type": "code",
      "execution_count": 24,
      "metadata": {
        "id": "DUJFCJcEkNcf"
      },
      "outputs": [],
      "source": [
        "from sklearn.model_selection import cross_val_score\n",
        "score = cross_val_score(model_xgboost, X, y, cv =15)"
      ]
    },
    {
      "cell_type": "code",
      "execution_count": null,
      "metadata": {
        "colab": {
          "base_uri": "https://localhost:8080/"
        },
        "id": "cu9nPb3QkNcg",
        "outputId": "bc608ba1-bcf3-411d-ea3d-ac0947734b18"
      },
      "outputs": [
        {
          "output_type": "execute_result",
          "data": {
            "text/plain": [
              "0.9704397981254506"
            ]
          },
          "metadata": {},
          "execution_count": 57
        }
      ],
      "source": [
        "score.max()"
      ]
    },
    {
      "cell_type": "code",
      "source": [
        "XGBClassifier().get_params()"
      ],
      "metadata": {
        "colab": {
          "base_uri": "https://localhost:8080/"
        },
        "id": "bjvNus8ztYaE",
        "outputId": "ac7fdc1a-bd35-41d1-d56e-fee6e4757ea2"
      },
      "execution_count": null,
      "outputs": [
        {
          "output_type": "execute_result",
          "data": {
            "text/plain": [
              "{'base_score': 0.5,\n",
              " 'booster': 'gbtree',\n",
              " 'colsample_bylevel': 1,\n",
              " 'colsample_bynode': 1,\n",
              " 'colsample_bytree': 1,\n",
              " 'gamma': 0,\n",
              " 'learning_rate': 0.1,\n",
              " 'max_delta_step': 0,\n",
              " 'max_depth': 3,\n",
              " 'min_child_weight': 1,\n",
              " 'missing': None,\n",
              " 'n_estimators': 100,\n",
              " 'n_jobs': 1,\n",
              " 'nthread': None,\n",
              " 'objective': 'binary:logistic',\n",
              " 'random_state': 0,\n",
              " 'reg_alpha': 0,\n",
              " 'reg_lambda': 1,\n",
              " 'scale_pos_weight': 1,\n",
              " 'seed': None,\n",
              " 'silent': None,\n",
              " 'subsample': 1,\n",
              " 'verbosity': 1}"
            ]
          },
          "metadata": {},
          "execution_count": 58
        }
      ]
    },
    {
      "cell_type": "markdown",
      "metadata": {
        "id": "bKy2VZ_YkNch"
      },
      "source": [
        "#**Hyperparameter Tuning on XGBoost :**"
      ]
    },
    {
      "cell_type": "code",
      "execution_count": 27,
      "metadata": {
        "id": "RJmsRiy7kNcj"
      },
      "outputs": [],
      "source": [
        "params = {\n",
        "    \"learning_rate\" : [0.01, 0.10, 0.25, 0.5, 1],\n",
        "    \"max_depth\" : [3,5,10,15,20],\n",
        "    \"min_child_weight\" : [1,3,5,7],\n",
        "    \"gamma\" : [0.0, 0.1, 0.2, 0.3, 0.4],\n",
        "    \"colsample_bytree\" : [0.3, 0.4, 0.5, 0.7, 1]\n",
        "    \n",
        "}"
      ]
    },
    {
      "cell_type": "code",
      "execution_count": 28,
      "metadata": {
        "id": "-W85VtWikNck"
      },
      "outputs": [],
      "source": [
        "from sklearn.model_selection import RandomizedSearchCV, GridSearchCV"
      ]
    },
    {
      "cell_type": "code",
      "execution_count": 29,
      "metadata": {
        "id": "mxYPAWPGkNcl"
      },
      "outputs": [],
      "source": [
        "classifier = XGBClassifier()"
      ]
    },
    {
      "cell_type": "markdown",
      "metadata": {
        "id": "pvlyoa3zkNcl"
      },
      "source": [
        "\n",
        "\n",
        "###**Randomized Search CV :**\n"
      ]
    },
    {
      "cell_type": "code",
      "execution_count": null,
      "metadata": {
        "id": "DAhBwN0YkNcm"
      },
      "outputs": [],
      "source": [
        "#Hyperparameter tuning using Randomized Search CV\n",
        "random_search =  RandomizedSearchCV(classifier, \n",
        "                                    param_distributions = params, n_iter=5, scoring =\"roc_auc\", n_jobs =-1, cv=5, verbose =3)"
      ]
    },
    {
      "cell_type": "code",
      "execution_count": null,
      "metadata": {
        "colab": {
          "base_uri": "https://localhost:8080/"
        },
        "id": "wQuflKxCkNcm",
        "outputId": "b0fcf484-6e30-4a6b-9dbe-f43d87d0a4c0"
      },
      "outputs": [
        {
          "metadata": {
            "tags": null
          },
          "name": "stdout",
          "output_type": "stream",
          "text": [
            "Fitting 5 folds for each of 5 candidates, totalling 25 fits\n"
          ]
        },
        {
          "output_type": "execute_result",
          "data": {
            "text/plain": [
              "RandomizedSearchCV(cv=5, estimator=XGBClassifier(), n_iter=5, n_jobs=-1,\n",
              "                   param_distributions={'colsample_bytree': [0.3, 0.4, 0.5, 0.7,\n",
              "                                                             1],\n",
              "                                        'gamma': [0.0, 0.1, 0.2, 0.3, 0.4],\n",
              "                                        'learning_rate': [0.01, 0.1, 0.25, 0.5,\n",
              "                                                          1],\n",
              "                                        'max_depth': [3, 5, 10, 15, 20],\n",
              "                                        'min_child_weight': [1, 3, 5, 7]},\n",
              "                   scoring='roc_auc', verbose=3)"
            ]
          },
          "metadata": {},
          "execution_count": 40
        }
      ],
      "source": [
        "random_search.fit(X,y)"
      ]
    },
    {
      "cell_type": "code",
      "execution_count": null,
      "metadata": {
        "colab": {
          "base_uri": "https://localhost:8080/"
        },
        "id": "eMySVasykNcm",
        "outputId": "3db020bb-c06d-483a-e83c-8ee4f3b20cee"
      },
      "outputs": [
        {
          "output_type": "execute_result",
          "data": {
            "text/plain": [
              "{'colsample_bytree': 1,\n",
              " 'gamma': 0.4,\n",
              " 'learning_rate': 0.25,\n",
              " 'max_depth': 15,\n",
              " 'min_child_weight': 1}"
            ]
          },
          "metadata": {},
          "execution_count": 41
        }
      ],
      "source": [
        "#Getting the best params from Random search\n",
        "random_search.best_params_"
      ]
    },
    {
      "cell_type": "code",
      "execution_count": null,
      "metadata": {
        "id": "Yov-qgRXkNco"
      },
      "outputs": [],
      "source": [
        "#Fitting the model with the best params we got\n",
        "classifier = xgboost.XGBClassifier(min_child_weight= 1,\n",
        "  max_depth= 5,\n",
        "  learning_rate= 0.1,\n",
        "  gamma= 0.1,\n",
        "  colsample_bytree= 0.5,n_estimators = 100,eval_metric = 'auc')"
      ]
    },
    {
      "cell_type": "code",
      "source": [
        "eval_set =[(X_val, y_val)]\n",
        "classifier.fit(X_train,\n",
        "                  y_train,\n",
        "                  early_stopping_rounds=10,\n",
        "                  eval_set=eval_set,\n",
        "                  verbose=True)"
      ],
      "metadata": {
        "id": "AXAr54_PuhHk"
      },
      "execution_count": null,
      "outputs": []
    },
    {
      "cell_type": "code",
      "source": [
        "y_train_pred=classifier.predict_proba(X_train)[:,1]\n",
        "y_test_pred=classifier.predict_proba(X_test)[:,1]\n",
        "print(\"AUC Train: {:.4f}\\nAUC Test: {:.4f}\".format(roc_auc_score(y_train, y_train_pred),\n",
        "                                                    roc_auc_score(y_test, y_test_pred)))\n",
        "\n",
        "y_train_pred=classifier.predict(X_train)\n",
        "y_test_pred=classifier.predict(X_test)\n",
        "print(\"Accuracy Train: {:.4f}\\nAccuracy Test: {:.4f}\".format(accuracy_score(y_train, y_train_pred),\n",
        "                                                    accuracy_score(y_test, y_test_pred)))\n",
        "                                            "
      ],
      "metadata": {
        "colab": {
          "base_uri": "https://localhost:8080/"
        },
        "id": "EOxwSKCEup-I",
        "outputId": "bfcae3fa-dd39-471a-de18-6248e0a1b1f2"
      },
      "execution_count": null,
      "outputs": [
        {
          "output_type": "stream",
          "name": "stdout",
          "text": [
            "AUC Train: 0.9955\n",
            "AUC Test: 0.9901\n",
            "Accuracy Train: 0.9718\n",
            "Accuracy Test: 0.9675\n"
          ]
        }
      ]
    },
    {
      "cell_type": "code",
      "execution_count": null,
      "metadata": {
        "id": "QhoogKrMkNco"
      },
      "outputs": [],
      "source": [
        "from sklearn.model_selection import cross_val_score\n",
        "score_r = cross_val_score(classifier, X, y, cv =15)"
      ]
    },
    {
      "cell_type": "code",
      "execution_count": null,
      "metadata": {
        "id": "3uxOqHi6kNcp",
        "outputId": "ab153bb3-3e56-41fe-870d-ac6cb892d02f",
        "colab": {
          "base_uri": "https://localhost:8080/"
        }
      },
      "outputs": [
        {
          "output_type": "execute_result",
          "data": {
            "text/plain": [
              "array([0.97692862, 0.97116078, 0.96755588, 0.96899784, 0.97476568,\n",
              "       0.97837058, 0.97188176, 0.98702235, 0.97260274, 0.96827686,\n",
              "       0.97402597, 0.96753247, 0.97258297, 0.97546898, 0.97041847])"
            ]
          },
          "metadata": {},
          "execution_count": 80
        }
      ],
      "source": [
        "score_r"
      ]
    },
    {
      "cell_type": "code",
      "execution_count": null,
      "metadata": {
        "id": "nTWV2HeVkNcp",
        "outputId": "3a31bd5d-ceb9-4cff-d869-f2c5649c5369",
        "colab": {
          "base_uri": "https://localhost:8080/"
        }
      },
      "outputs": [
        {
          "output_type": "execute_result",
          "data": {
            "text/plain": [
              "0.9870223503965393"
            ]
          },
          "metadata": {},
          "execution_count": 81
        }
      ],
      "source": [
        "#Accuracy max\n",
        "score_r.max()"
      ]
    },
    {
      "cell_type": "markdown",
      "metadata": {
        "id": "Y0Yl12mfkNcp"
      },
      "source": [
        "###**GridSearchCV :**"
      ]
    },
    {
      "cell_type": "code",
      "source": [
        "model_xgboost.get_params()"
      ],
      "metadata": {
        "colab": {
          "base_uri": "https://localhost:8080/"
        },
        "id": "cgHQKRiewDKh",
        "outputId": "4dc77ab3-38e7-4e8e-ec94-9b5328da8920"
      },
      "execution_count": 30,
      "outputs": [
        {
          "output_type": "execute_result",
          "data": {
            "text/plain": [
              "{'base_score': 0.5,\n",
              " 'booster': 'gbtree',\n",
              " 'colsample_bylevel': 1,\n",
              " 'colsample_bynode': 1,\n",
              " 'colsample_bytree': 1,\n",
              " 'eval_metric': 'auc',\n",
              " 'gamma': 0,\n",
              " 'learning_rate': 0.1,\n",
              " 'max_delta_step': 0,\n",
              " 'max_depth': 3,\n",
              " 'min_child_weight': 1,\n",
              " 'missing': None,\n",
              " 'n_estimators': 100,\n",
              " 'n_jobs': 1,\n",
              " 'nthread': None,\n",
              " 'objective': 'binary:logistic',\n",
              " 'random_state': 0,\n",
              " 'reg_alpha': 0,\n",
              " 'reg_lambda': 1,\n",
              " 'scale_pos_weight': 1,\n",
              " 'seed': None,\n",
              " 'silent': None,\n",
              " 'subsample': 1,\n",
              " 'verbosity': 1}"
            ]
          },
          "metadata": {},
          "execution_count": 30
        }
      ]
    },
    {
      "cell_type": "code",
      "source": [
        "classifier.get_params()"
      ],
      "metadata": {
        "colab": {
          "base_uri": "https://localhost:8080/"
        },
        "id": "oTxal--GwK1a",
        "outputId": "77e8c91b-9901-4859-a661-2a9ecade3238"
      },
      "execution_count": 31,
      "outputs": [
        {
          "output_type": "execute_result",
          "data": {
            "text/plain": [
              "{'base_score': 0.5,\n",
              " 'booster': 'gbtree',\n",
              " 'colsample_bylevel': 1,\n",
              " 'colsample_bynode': 1,\n",
              " 'colsample_bytree': 1,\n",
              " 'gamma': 0,\n",
              " 'learning_rate': 0.1,\n",
              " 'max_delta_step': 0,\n",
              " 'max_depth': 3,\n",
              " 'min_child_weight': 1,\n",
              " 'missing': None,\n",
              " 'n_estimators': 100,\n",
              " 'n_jobs': 1,\n",
              " 'nthread': None,\n",
              " 'objective': 'binary:logistic',\n",
              " 'random_state': 0,\n",
              " 'reg_alpha': 0,\n",
              " 'reg_lambda': 1,\n",
              " 'scale_pos_weight': 1,\n",
              " 'seed': None,\n",
              " 'silent': None,\n",
              " 'subsample': 1,\n",
              " 'verbosity': 1}"
            ]
          },
          "metadata": {},
          "execution_count": 31
        }
      ]
    },
    {
      "cell_type": "code",
      "execution_count": 32,
      "metadata": {
        "id": "S2jjAnDvkNcq"
      },
      "outputs": [],
      "source": [
        "params2 = {\n",
        "    \"learning_rate\" : [0.1,0.5],\n",
        "    \"max_depth\" : [5,9,11],\n",
        "    \"min_child_weight\" : [1,3],\n",
        "    \"gamma\" : [0.0,0.1,0.5,0.7],\n",
        "    \"colsample_bytree\" : [0.5, 1]\n",
        "    \n",
        "}"
      ]
    },
    {
      "cell_type": "code",
      "execution_count": 35,
      "metadata": {
        "colab": {
          "base_uri": "https://localhost:8080/"
        },
        "id": "A1TRS6YTkNcq",
        "outputId": "e322c4aa-ded1-4309-8e2c-e255099f4c53"
      },
      "outputs": [
        {
          "metadata": {
            "tags": null
          },
          "name": "stdout",
          "output_type": "stream",
          "text": [
            "Fitting 3 folds for each of 96 candidates, totalling 288 fits\n"
          ]
        }
      ],
      "source": [
        "grid_search = GridSearchCV( \n",
        "    estimator = classifier, param_grid = params2, scoring =\"roc_auc\", n_jobs =-1, cv=3, verbose =3)\n",
        "\n",
        "grid_search = grid_search.fit(X_train,y_train)\n",
        "#print(model.best_score_)\n",
        "#print(model.best_estimator_.get_params())"
      ]
    },
    {
      "cell_type": "code",
      "source": [
        "random_search.best_params_"
      ],
      "metadata": {
        "colab": {
          "base_uri": "https://localhost:8080/"
        },
        "id": "tm0HrNGF2XUO",
        "outputId": "bf980737-82c4-4641-b07e-d7df94ab4c30"
      },
      "execution_count": null,
      "outputs": [
        {
          "output_type": "execute_result",
          "data": {
            "text/plain": [
              "{'colsample_bytree': 1,\n",
              " 'gamma': 0.4,\n",
              " 'learning_rate': 0.25,\n",
              " 'max_depth': 15,\n",
              " 'min_child_weight': 1}"
            ]
          },
          "metadata": {},
          "execution_count": 49
        }
      ]
    },
    {
      "cell_type": "code",
      "execution_count": 36,
      "metadata": {
        "colab": {
          "base_uri": "https://localhost:8080/"
        },
        "id": "5-gfjvGVkNcr",
        "outputId": "101abd60-2c84-40bc-af8c-040aca52e830"
      },
      "outputs": [
        {
          "output_type": "execute_result",
          "data": {
            "text/plain": [
              "{'colsample_bytree': 0.5,\n",
              " 'gamma': 0.5,\n",
              " 'learning_rate': 0.5,\n",
              " 'max_depth': 11,\n",
              " 'min_child_weight': 1}"
            ]
          },
          "metadata": {},
          "execution_count": 36
        }
      ],
      "source": [
        "#accuracy = gird_search.best_score_\n",
        "grid_search.best_params_\n"
      ]
    },
    {
      "cell_type": "markdown",
      "source": [
        "\n",
        "best parameters so far -- {'colsample_bytree': 0.5,\n",
        " 'gamma': 0.5,\n",
        " 'learning_rate': 0.5,\n",
        " 'max_depth': 11,\n",
        " 'min_child_weight': 1}"
      ],
      "metadata": {
        "id": "vGMl2R8Kwhxx"
      }
    },
    {
      "cell_type": "code",
      "execution_count": 43,
      "metadata": {
        "id": "IomUmazfkNcs"
      },
      "outputs": [],
      "source": [
        "#Fitting the model with the best params we got\n",
        "classifier = xgboost.XGBClassifier(min_child_weight= 1,\n",
        "  max_depth= 11,\n",
        "  learning_rate= 0.5,\n",
        "  gamma= 0.7,\n",
        "  colsample_bytree= 0.5,n_estimators = 100,eval_metric = 'auc')"
      ]
    },
    {
      "cell_type": "code",
      "source": [
        "#eval_set =[(X_val, y_val)]\n",
        "eval_set =[(X_test, y_test)]\n",
        "classifier.fit(X_train,\n",
        "                  y_train,\n",
        "                  early_stopping_rounds=10,\n",
        "                  eval_set=eval_set,\n",
        "                  verbose=True)"
      ],
      "metadata": {
        "id": "ycClufJt2heH",
        "colab": {
          "base_uri": "https://localhost:8080/"
        },
        "outputId": "62300030-ef23-48d6-9190-6b9a13261765"
      },
      "execution_count": 39,
      "outputs": [
        {
          "output_type": "stream",
          "name": "stdout",
          "text": [
            "[0]\tvalidation_0-auc:0.711296\n",
            "Will train until validation_0-auc hasn't improved in 10 rounds.\n",
            "[1]\tvalidation_0-auc:0.957165\n",
            "[2]\tvalidation_0-auc:0.970727\n",
            "[3]\tvalidation_0-auc:0.979595\n",
            "[4]\tvalidation_0-auc:0.983892\n",
            "[5]\tvalidation_0-auc:0.988727\n",
            "[6]\tvalidation_0-auc:0.990234\n",
            "[7]\tvalidation_0-auc:0.990603\n",
            "[8]\tvalidation_0-auc:0.990844\n",
            "[9]\tvalidation_0-auc:0.991086\n",
            "[10]\tvalidation_0-auc:0.992512\n",
            "[11]\tvalidation_0-auc:0.993482\n",
            "[12]\tvalidation_0-auc:0.993597\n",
            "[13]\tvalidation_0-auc:0.99385\n",
            "[14]\tvalidation_0-auc:0.99457\n",
            "[15]\tvalidation_0-auc:0.994463\n",
            "[16]\tvalidation_0-auc:0.994769\n",
            "[17]\tvalidation_0-auc:0.994953\n",
            "[18]\tvalidation_0-auc:0.994996\n",
            "[19]\tvalidation_0-auc:0.995006\n",
            "[20]\tvalidation_0-auc:0.99546\n",
            "[21]\tvalidation_0-auc:0.995458\n",
            "[22]\tvalidation_0-auc:0.995543\n",
            "[23]\tvalidation_0-auc:0.995574\n",
            "[24]\tvalidation_0-auc:0.995627\n",
            "[25]\tvalidation_0-auc:0.995574\n",
            "[26]\tvalidation_0-auc:0.99561\n",
            "[27]\tvalidation_0-auc:0.995661\n",
            "[28]\tvalidation_0-auc:0.995566\n",
            "[29]\tvalidation_0-auc:0.995573\n",
            "[30]\tvalidation_0-auc:0.99578\n",
            "[31]\tvalidation_0-auc:0.995766\n",
            "[32]\tvalidation_0-auc:0.995985\n",
            "[33]\tvalidation_0-auc:0.996186\n",
            "[34]\tvalidation_0-auc:0.995959\n",
            "[35]\tvalidation_0-auc:0.995927\n",
            "[36]\tvalidation_0-auc:0.995944\n",
            "[37]\tvalidation_0-auc:0.996\n",
            "[38]\tvalidation_0-auc:0.996023\n",
            "[39]\tvalidation_0-auc:0.996044\n",
            "[40]\tvalidation_0-auc:0.996036\n",
            "[41]\tvalidation_0-auc:0.99604\n",
            "[42]\tvalidation_0-auc:0.996061\n",
            "[43]\tvalidation_0-auc:0.996019\n",
            "Stopping. Best iteration:\n",
            "[33]\tvalidation_0-auc:0.996186\n",
            "\n"
          ]
        },
        {
          "output_type": "execute_result",
          "data": {
            "text/plain": [
              "XGBClassifier(colsample_bytree=0.5, eval_metric='auc', gamma=0.7,\n",
              "              learning_rate=0.5, max_depth=11)"
            ]
          },
          "metadata": {},
          "execution_count": 39
        }
      ]
    },
    {
      "cell_type": "markdown",
      "metadata": {
        "id": "8dnLKrwmkNct"
      },
      "source": [
        "###**Results :**"
      ]
    },
    {
      "cell_type": "code",
      "source": [
        "#Accuracy with GridSearchCV hyperparameter tuning\n",
        "y_train_pred=classifier.predict_proba(X_train)[:,1]\n",
        "y_test_pred=classifier.predict_proba(X_test)[:,1]\n",
        "print(\"AUC Train: {:.4f}\\nAUC Test: {:.4f}\".format(roc_auc_score(y_train, y_train_pred),\n",
        "                                                    roc_auc_score(y_test, y_test_pred)))\n",
        "\n",
        "\n",
        "y_train_pred=classifier.predict(X_train)\n",
        "y_test_pred=classifier.predict(X_test)\n",
        "print(\"Training accuracy after tuning the parameters using GridSearchCV: {:.4f}\\nTest accuracy after tuning the parameters using GridSearchCV: {:.4f}\".format(accuracy_score(y_train, y_train_pred),\n",
        "                                                    accuracy_score(y_test, y_test_pred)))\n",
        "                                            "
      ],
      "metadata": {
        "colab": {
          "base_uri": "https://localhost:8080/"
        },
        "id": "BLEUywS42yUz",
        "outputId": "2b986a5e-260e-4a06-9f96-f085b141f3ed"
      },
      "execution_count": 40,
      "outputs": [
        {
          "output_type": "stream",
          "name": "stdout",
          "text": [
            "AUC Train: 0.9995\n",
            "AUC Test: 0.9962\n",
            "Training accuracy after tuning the parameters using GridSearchCV: 0.9946\n",
            "Test accuracy after tuning the parameters using GridSearchCV: 0.9865\n"
          ]
        }
      ]
    },
    {
      "cell_type": "code",
      "execution_count": 44,
      "metadata": {
        "id": "4P-kCH4mkNcs"
      },
      "outputs": [],
      "source": [
        "from sklearn.model_selection import cross_val_score\n",
        "from sklearn.model_selection import StratifiedKFold\n",
        "skf = StratifiedKFold(n_splits=10)\n",
        "\n",
        "score_g = cross_val_score(classifier, X, y, cv =skf, scoring = 'accuracy')"
      ]
    },
    {
      "cell_type": "code",
      "execution_count": 42,
      "metadata": {
        "colab": {
          "base_uri": "https://localhost:8080/"
        },
        "id": "kmME3DPAkNct",
        "outputId": "cf780ac4-0003-47a9-e357-6d8bbaf89d54"
      },
      "outputs": [
        {
          "output_type": "execute_result",
          "data": {
            "text/plain": [
              "0.9921153846153846"
            ]
          },
          "metadata": {},
          "execution_count": 42
        }
      ],
      "source": [
        "score_g.mean()"
      ]
    },
    {
      "cell_type": "markdown",
      "source": [
        "###**Using Bayesian Optimization to tune parameteres on XGBoost :**"
      ],
      "metadata": {
        "id": "uHW0Qftte4bh"
      }
    },
    {
      "cell_type": "code",
      "source": [
        "from sklearn.metrics import precision_recall_fscore_support as score\n",
        "from hyperopt import tpe, STATUS_OK, Trials, hp, fmin, space_eval"
      ],
      "metadata": {
        "id": "BbvI-2xTRvAK"
      },
      "execution_count": null,
      "outputs": []
    },
    {
      "cell_type": "code",
      "source": [
        "\n",
        "# Space\n",
        "space = {\n",
        "    'learning_rate': hp.choice('learning_rate', [ 0.01, 0.1, 0.5, 1]),\n",
        "    'max_depth' : hp.choice('max_depth', [3,5,9,11]),\n",
        "    'min_child_weight' : hp.choice('min_child_weight', range(1,4)),\n",
        "    'gamma' : hp.choice('gamma', [i/10.0 for i in range(0,8)]),\n",
        "    'colsample_bytree' : hp.choice('colsample_bytree', [i/10.0 for i in range(3,11)])\n",
        "    #'reg_alpha' : hp.choice('reg_alpha', [0, 1e-5, 1e-2, 0.1, 1, 10, 100]), \n",
        "    #'reg_lambda' : hp.choice('reg_lambda', [1e-5, 1e-2, 0.1, 1, 10, 100])\n",
        "}\n",
        "# Set up the k-fold cross-validation\n",
        "kfold = StratifiedKFold(n_splits=3)\n",
        "# Objective function\n",
        "def objective(params):\n",
        "    \n",
        "    xgboost = XGBClassifier(seed=0, **params)\n",
        "    scores = cross_val_score(xgboost, X_train, y_train, cv=kfold, scoring='accuracy', n_jobs=-1)\n",
        "    # Extract the best score\n",
        "    best_score = max(scores)\n",
        "    # Loss must be minimized\n",
        "    loss = - best_score\n",
        "    # Dictionary with information for evaluation\n",
        "    return {'loss': loss, 'params': params, 'status': STATUS_OK}\n",
        "# Trials to track progress\n",
        "bayes_trials = Trials()\n",
        "# Optimize\n",
        "best = fmin(fn = objective, space = space, algo = tpe.suggest, max_evals = 100, trials = bayes_trials)"
      ],
      "metadata": {
        "colab": {
          "base_uri": "https://localhost:8080/"
        },
        "id": "SUqvNnohRvDI",
        "outputId": "d46ef4ef-7ad0-41fc-cd62-d00bb9d607cd"
      },
      "execution_count": null,
      "outputs": [
        {
          "output_type": "stream",
          "name": "stdout",
          "text": [
            "100%|██████████| 100/100 [19:19<00:00, 11.60s/it, best loss: -0.9877403846153846]\n"
          ]
        }
      ]
    },
    {
      "cell_type": "code",
      "source": [
        "# Print the index of the best parameters\n",
        "print(best)\n",
        "# Print the values of the best parameters\n",
        "print(space_eval(space, best))"
      ],
      "metadata": {
        "colab": {
          "base_uri": "https://localhost:8080/"
        },
        "id": "_NwQGLXDUy-2",
        "outputId": "143cb7fb-a21f-4b17-8829-bb2231b3e2bf"
      },
      "execution_count": null,
      "outputs": [
        {
          "output_type": "stream",
          "name": "stdout",
          "text": [
            "{'colsample_bytree': 0, 'gamma': 6, 'learning_rate': 2, 'max_depth': 3, 'min_child_weight': 0}\n",
            "{'colsample_bytree': 0.3, 'gamma': 0.6, 'learning_rate': 0.5, 'max_depth': 11, 'min_child_weight': 1}\n"
          ]
        }
      ]
    },
    {
      "cell_type": "code",
      "source": [
        "#Fitting the model with the best params we got\n",
        "classifier = xgboost.XGBClassifier(min_child_weight= 1,\n",
        "  max_depth= 11,\n",
        "  learning_rate= 0.5,\n",
        "  gamma= 0.6,\n",
        "  colsample_bytree= 0.3,\n",
        "  n_estimators = 100,eval_metric = 'auc')"
      ],
      "metadata": {
        "id": "lrUjqCqpaLYd"
      },
      "execution_count": null,
      "outputs": []
    },
    {
      "cell_type": "code",
      "source": [
        "eval_set =[(X_val, y_val)]\n",
        "classifier.fit(X_train,\n",
        "                  y_train,\n",
        "                  early_stopping_rounds=10,\n",
        "                  eval_set=eval_set,\n",
        "                  verbose=True)"
      ],
      "metadata": {
        "colab": {
          "base_uri": "https://localhost:8080/"
        },
        "id": "_03IcdXcarLw",
        "outputId": "32344377-61da-4717-9ae2-0985678614b7"
      },
      "execution_count": null,
      "outputs": [
        {
          "output_type": "stream",
          "name": "stdout",
          "text": [
            "[0]\tvalidation_0-auc:0.711701\n",
            "Will train until validation_0-auc hasn't improved in 10 rounds.\n",
            "[1]\tvalidation_0-auc:0.958172\n",
            "[2]\tvalidation_0-auc:0.967683\n",
            "[3]\tvalidation_0-auc:0.972946\n",
            "[4]\tvalidation_0-auc:0.986253\n",
            "[5]\tvalidation_0-auc:0.988337\n",
            "[6]\tvalidation_0-auc:0.990804\n",
            "[7]\tvalidation_0-auc:0.990301\n",
            "[8]\tvalidation_0-auc:0.991029\n",
            "[9]\tvalidation_0-auc:0.991407\n",
            "[10]\tvalidation_0-auc:0.992975\n",
            "[11]\tvalidation_0-auc:0.994797\n",
            "[12]\tvalidation_0-auc:0.995908\n",
            "[13]\tvalidation_0-auc:0.996062\n",
            "[14]\tvalidation_0-auc:0.996582\n",
            "[15]\tvalidation_0-auc:0.996645\n",
            "[16]\tvalidation_0-auc:0.99668\n",
            "[17]\tvalidation_0-auc:0.996749\n",
            "[18]\tvalidation_0-auc:0.996938\n",
            "[19]\tvalidation_0-auc:0.996962\n",
            "[20]\tvalidation_0-auc:0.997001\n",
            "[21]\tvalidation_0-auc:0.997172\n",
            "[22]\tvalidation_0-auc:0.997205\n",
            "[23]\tvalidation_0-auc:0.997223\n",
            "[24]\tvalidation_0-auc:0.997243\n",
            "[25]\tvalidation_0-auc:0.997273\n",
            "[26]\tvalidation_0-auc:0.997471\n",
            "[27]\tvalidation_0-auc:0.997552\n",
            "[28]\tvalidation_0-auc:0.997611\n",
            "[29]\tvalidation_0-auc:0.99753\n",
            "[30]\tvalidation_0-auc:0.997594\n",
            "[31]\tvalidation_0-auc:0.997745\n",
            "[32]\tvalidation_0-auc:0.997732\n",
            "[33]\tvalidation_0-auc:0.99772\n",
            "[34]\tvalidation_0-auc:0.997735\n",
            "[35]\tvalidation_0-auc:0.997758\n",
            "[36]\tvalidation_0-auc:0.997897\n",
            "[37]\tvalidation_0-auc:0.997887\n",
            "[38]\tvalidation_0-auc:0.997937\n",
            "[39]\tvalidation_0-auc:0.997932\n",
            "[40]\tvalidation_0-auc:0.997931\n",
            "[41]\tvalidation_0-auc:0.997934\n",
            "[42]\tvalidation_0-auc:0.99798\n",
            "[43]\tvalidation_0-auc:0.998034\n",
            "[44]\tvalidation_0-auc:0.998018\n",
            "[45]\tvalidation_0-auc:0.99807\n",
            "[46]\tvalidation_0-auc:0.99807\n",
            "[47]\tvalidation_0-auc:0.998083\n",
            "[48]\tvalidation_0-auc:0.998099\n",
            "[49]\tvalidation_0-auc:0.998132\n",
            "[50]\tvalidation_0-auc:0.998131\n",
            "[51]\tvalidation_0-auc:0.998139\n",
            "[52]\tvalidation_0-auc:0.99809\n",
            "[53]\tvalidation_0-auc:0.998087\n",
            "[54]\tvalidation_0-auc:0.998112\n",
            "[55]\tvalidation_0-auc:0.998117\n",
            "[56]\tvalidation_0-auc:0.998112\n",
            "[57]\tvalidation_0-auc:0.998082\n",
            "[58]\tvalidation_0-auc:0.998067\n",
            "[59]\tvalidation_0-auc:0.99811\n",
            "[60]\tvalidation_0-auc:0.998095\n",
            "[61]\tvalidation_0-auc:0.998079\n",
            "Stopping. Best iteration:\n",
            "[51]\tvalidation_0-auc:0.998139\n",
            "\n"
          ]
        },
        {
          "output_type": "execute_result",
          "data": {
            "text/plain": [
              "XGBClassifier(colsample_bytree=0.3, eval_metric='auc', gamma=0.6,\n",
              "              learning_rate=0.5, max_depth=11)"
            ]
          },
          "metadata": {},
          "execution_count": 81
        }
      ]
    },
    {
      "cell_type": "code",
      "source": [
        "y_train_pred=classifier.predict_proba(X_train)[:,1]\n",
        "y_test_pred=classifier.predict_proba(X_test)[:,1]\n",
        "print(\"AUC Train: {:.4f}\\nAUC Test: {:.4f}\".format(roc_auc_score(y_train, y_train_pred),\n",
        "                                                    roc_auc_score(y_test, y_test_pred)))\n",
        "\n",
        "\n",
        "y_train_pred=classifier.predict(X_train)\n",
        "y_test_pred=classifier.predict(X_test)\n",
        "print(\"Training accuracy after tuning the parameters using Bayesian Optimizer : {:.4f}\\nTest accuracy after tuning the parameters using Bayesian Optimizer : {:.4f}\".format(accuracy_score(y_train, y_train_pred),\n",
        "                                                    accuracy_score(y_test, y_test_pred)))"
      ],
      "metadata": {
        "colab": {
          "base_uri": "https://localhost:8080/"
        },
        "id": "AvqyqFpMaut6",
        "outputId": "276f6dc7-6b0c-4486-b3d9-1249efbd6329"
      },
      "execution_count": null,
      "outputs": [
        {
          "output_type": "stream",
          "name": "stdout",
          "text": [
            "AUC Train: 0.9997\n",
            "AUC Test: 0.9961\n",
            "Training accuracy after tuning the parameters using Bayesian Optimizer : 0.9954\n",
            "Test accuracy after tuning the parameters using Bayesian Optimizer : 0.9856\n"
          ]
        }
      ]
    },
    {
      "cell_type": "code",
      "source": [
        ""
      ],
      "metadata": {
        "id": "qwqVicYga9ws"
      },
      "execution_count": null,
      "outputs": []
    }
  ],
  "metadata": {
    "kernelspec": {
      "display_name": "Python 3",
      "language": "python",
      "name": "python3"
    },
    "language_info": {
      "codemirror_mode": {
        "name": "ipython",
        "version": 3
      },
      "file_extension": ".py",
      "mimetype": "text/x-python",
      "name": "python",
      "nbconvert_exporter": "python",
      "pygments_lexer": "ipython3",
      "version": "3.7.6"
    },
    "colab": {
      "name": "Fake_News_Detection2.ipynb",
      "provenance": [],
      "toc_visible": true,
      "collapsed_sections": [
        "o1dgmZr9kNcY",
        "DFtCpUamkNcc",
        "bKy2VZ_YkNch",
        "pvlyoa3zkNcl",
        "Y0Yl12mfkNcp",
        "8dnLKrwmkNct",
        "uHW0Qftte4bh"
      ]
    }
  },
  "nbformat": 4,
  "nbformat_minor": 0
}