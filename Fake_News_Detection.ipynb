{
  "cells": [
    {
      "cell_type": "markdown",
      "metadata": {
        "id": "tQO8dl-5lbvZ"
      },
      "source": [
        "# Importing all the dependancies "
      ]
    },
    {
      "cell_type": "code",
      "execution_count": 205,
      "metadata": {
        "id": "rk2fphGUlbvc",
        "colab": {
          "base_uri": "https://localhost:8080/"
        },
        "outputId": "871718e5-f326-48c7-8c63-93e19bcbd378"
      },
      "outputs": [
        {
          "output_type": "stream",
          "name": "stderr",
          "text": [
            "[nltk_data] Downloading package wordnet to /root/nltk_data...\n",
            "[nltk_data]   Package wordnet is already up-to-date!\n"
          ]
        },
        {
          "output_type": "execute_result",
          "data": {
            "text/plain": [
              "True"
            ]
          },
          "metadata": {},
          "execution_count": 205
        }
      ],
      "source": [
        "import pandas as pd\n",
        "import numpy as np\n",
        "import matplotlib.pyplot as plt\n",
        "from nltk.corpus import stopwords\n",
        "from nltk.stem import WordNetLemmatizer\n",
        "from nltk.stem.porter import PorterStemmer\n",
        "from sklearn.feature_extraction.text import TfidfVectorizer\n",
        "from sklearn.metrics import accuracy_score\n",
        "from sklearn.model_selection import train_test_split,cross_val_score\n",
        "from sklearn.feature_selection import f_classif\n",
        "from sklearn.model_selection import cross_val_score\n",
        "from sklearn.model_selection import StratifiedKFold\n",
        "from sklearn import metrics\n",
        "from scipy import stats\n",
        "import statsmodels.api as sm\n",
        "import math\n",
        "import re\n",
        "import seaborn as sns\n",
        "\n",
        "from sklearn.linear_model import LogisticRegression\n",
        "\n",
        "import xgboost\n",
        "from sklearn.metrics import roc_auc_score\n",
        "from sklearn.metrics import accuracy_score\n",
        "from xgboost import XGBClassifier\n",
        "\n",
        "from sklearn.model_selection import RandomizedSearchCV\n",
        "from sklearn.model_selection import GridSearchCV\n",
        "\n",
        "\n",
        "nltk.download('wordnet')"
      ]
    },
    {
      "cell_type": "code",
      "execution_count": 206,
      "metadata": {
        "id": "En2u43bzlbve",
        "outputId": "bb8e6407-4626-46a7-fae2-6657f5da4a5c",
        "colab": {
          "base_uri": "https://localhost:8080/"
        }
      },
      "outputs": [
        {
          "output_type": "stream",
          "name": "stderr",
          "text": [
            "[nltk_data] Downloading package stopwords to /root/nltk_data...\n",
            "[nltk_data]   Package stopwords is already up-to-date!\n"
          ]
        },
        {
          "output_type": "execute_result",
          "data": {
            "text/plain": [
              "True"
            ]
          },
          "metadata": {},
          "execution_count": 206
        }
      ],
      "source": [
        "import nltk\n",
        "nltk.download('stopwords')"
      ]
    },
    {
      "cell_type": "code",
      "source": [
        "from google.colab import drive\n",
        "drive.mount('/content/drive')"
      ],
      "metadata": {
        "colab": {
          "base_uri": "https://localhost:8080/"
        },
        "id": "15qGuVU5-aJc",
        "outputId": "efde708b-4e4e-4fe2-d2b4-67d554d6aed1"
      },
      "execution_count": 207,
      "outputs": [
        {
          "output_type": "stream",
          "name": "stdout",
          "text": [
            "Drive already mounted at /content/drive; to attempt to forcibly remount, call drive.mount(\"/content/drive\", force_remount=True).\n"
          ]
        }
      ]
    },
    {
      "cell_type": "code",
      "execution_count": 208,
      "metadata": {
        "id": "oRC2fva-lbvf"
      },
      "outputs": [],
      "source": [
        "#Loading Dataset\n",
        "df = pd.read_csv('/content/drive/MyDrive/train.csv')\n",
        "\n",
        "#test_data = pd.read_csv('E:\\Fake News Detection/test.csv')\n",
        "#submit = pd.read_csv('E:\\Fake News Detection/submit.csv')\n",
        "#df = pd.read_csv('train.csv')\n",
        "# df = pd.read_csv('E:\\Fake News Detection/train.csv')\n"
      ]
    },
    {
      "cell_type": "code",
      "execution_count": 209,
      "metadata": {
        "id": "oMwoYzCblbvg",
        "outputId": "fc00b880-d547-48a0-c856-ff4bf8fc2f5b",
        "colab": {
          "base_uri": "https://localhost:8080/",
          "height": 206
        }
      },
      "outputs": [
        {
          "output_type": "execute_result",
          "data": {
            "text/plain": [
              "   id                                              title              author  \\\n",
              "0   0  House Dem Aide: We Didn’t Even See Comey’s Let...       Darrell Lucus   \n",
              "1   1  FLYNN: Hillary Clinton, Big Woman on Campus - ...     Daniel J. Flynn   \n",
              "2   2                  Why the Truth Might Get You Fired  Consortiumnews.com   \n",
              "3   3  15 Civilians Killed In Single US Airstrike Hav...     Jessica Purkiss   \n",
              "4   4  Iranian woman jailed for fictional unpublished...      Howard Portnoy   \n",
              "\n",
              "                                                text  label  \n",
              "0  House Dem Aide: We Didn’t Even See Comey’s Let...      1  \n",
              "1  Ever get the feeling your life circles the rou...      0  \n",
              "2  Why the Truth Might Get You Fired October 29, ...      1  \n",
              "3  Videos 15 Civilians Killed In Single US Airstr...      1  \n",
              "4  Print \\nAn Iranian woman has been sentenced to...      1  "
            ],
            "text/html": [
              "\n",
              "  <div id=\"df-90c39d9c-4745-4e14-921e-10f7522e92f2\">\n",
              "    <div class=\"colab-df-container\">\n",
              "      <div>\n",
              "<style scoped>\n",
              "    .dataframe tbody tr th:only-of-type {\n",
              "        vertical-align: middle;\n",
              "    }\n",
              "\n",
              "    .dataframe tbody tr th {\n",
              "        vertical-align: top;\n",
              "    }\n",
              "\n",
              "    .dataframe thead th {\n",
              "        text-align: right;\n",
              "    }\n",
              "</style>\n",
              "<table border=\"1\" class=\"dataframe\">\n",
              "  <thead>\n",
              "    <tr style=\"text-align: right;\">\n",
              "      <th></th>\n",
              "      <th>id</th>\n",
              "      <th>title</th>\n",
              "      <th>author</th>\n",
              "      <th>text</th>\n",
              "      <th>label</th>\n",
              "    </tr>\n",
              "  </thead>\n",
              "  <tbody>\n",
              "    <tr>\n",
              "      <th>0</th>\n",
              "      <td>0</td>\n",
              "      <td>House Dem Aide: We Didn’t Even See Comey’s Let...</td>\n",
              "      <td>Darrell Lucus</td>\n",
              "      <td>House Dem Aide: We Didn’t Even See Comey’s Let...</td>\n",
              "      <td>1</td>\n",
              "    </tr>\n",
              "    <tr>\n",
              "      <th>1</th>\n",
              "      <td>1</td>\n",
              "      <td>FLYNN: Hillary Clinton, Big Woman on Campus - ...</td>\n",
              "      <td>Daniel J. Flynn</td>\n",
              "      <td>Ever get the feeling your life circles the rou...</td>\n",
              "      <td>0</td>\n",
              "    </tr>\n",
              "    <tr>\n",
              "      <th>2</th>\n",
              "      <td>2</td>\n",
              "      <td>Why the Truth Might Get You Fired</td>\n",
              "      <td>Consortiumnews.com</td>\n",
              "      <td>Why the Truth Might Get You Fired October 29, ...</td>\n",
              "      <td>1</td>\n",
              "    </tr>\n",
              "    <tr>\n",
              "      <th>3</th>\n",
              "      <td>3</td>\n",
              "      <td>15 Civilians Killed In Single US Airstrike Hav...</td>\n",
              "      <td>Jessica Purkiss</td>\n",
              "      <td>Videos 15 Civilians Killed In Single US Airstr...</td>\n",
              "      <td>1</td>\n",
              "    </tr>\n",
              "    <tr>\n",
              "      <th>4</th>\n",
              "      <td>4</td>\n",
              "      <td>Iranian woman jailed for fictional unpublished...</td>\n",
              "      <td>Howard Portnoy</td>\n",
              "      <td>Print \\nAn Iranian woman has been sentenced to...</td>\n",
              "      <td>1</td>\n",
              "    </tr>\n",
              "  </tbody>\n",
              "</table>\n",
              "</div>\n",
              "      <button class=\"colab-df-convert\" onclick=\"convertToInteractive('df-90c39d9c-4745-4e14-921e-10f7522e92f2')\"\n",
              "              title=\"Convert this dataframe to an interactive table.\"\n",
              "              style=\"display:none;\">\n",
              "        \n",
              "  <svg xmlns=\"http://www.w3.org/2000/svg\" height=\"24px\"viewBox=\"0 0 24 24\"\n",
              "       width=\"24px\">\n",
              "    <path d=\"M0 0h24v24H0V0z\" fill=\"none\"/>\n",
              "    <path d=\"M18.56 5.44l.94 2.06.94-2.06 2.06-.94-2.06-.94-.94-2.06-.94 2.06-2.06.94zm-11 1L8.5 8.5l.94-2.06 2.06-.94-2.06-.94L8.5 2.5l-.94 2.06-2.06.94zm10 10l.94 2.06.94-2.06 2.06-.94-2.06-.94-.94-2.06-.94 2.06-2.06.94z\"/><path d=\"M17.41 7.96l-1.37-1.37c-.4-.4-.92-.59-1.43-.59-.52 0-1.04.2-1.43.59L10.3 9.45l-7.72 7.72c-.78.78-.78 2.05 0 2.83L4 21.41c.39.39.9.59 1.41.59.51 0 1.02-.2 1.41-.59l7.78-7.78 2.81-2.81c.8-.78.8-2.07 0-2.86zM5.41 20L4 18.59l7.72-7.72 1.47 1.35L5.41 20z\"/>\n",
              "  </svg>\n",
              "      </button>\n",
              "      \n",
              "  <style>\n",
              "    .colab-df-container {\n",
              "      display:flex;\n",
              "      flex-wrap:wrap;\n",
              "      gap: 12px;\n",
              "    }\n",
              "\n",
              "    .colab-df-convert {\n",
              "      background-color: #E8F0FE;\n",
              "      border: none;\n",
              "      border-radius: 50%;\n",
              "      cursor: pointer;\n",
              "      display: none;\n",
              "      fill: #1967D2;\n",
              "      height: 32px;\n",
              "      padding: 0 0 0 0;\n",
              "      width: 32px;\n",
              "    }\n",
              "\n",
              "    .colab-df-convert:hover {\n",
              "      background-color: #E2EBFA;\n",
              "      box-shadow: 0px 1px 2px rgba(60, 64, 67, 0.3), 0px 1px 3px 1px rgba(60, 64, 67, 0.15);\n",
              "      fill: #174EA6;\n",
              "    }\n",
              "\n",
              "    [theme=dark] .colab-df-convert {\n",
              "      background-color: #3B4455;\n",
              "      fill: #D2E3FC;\n",
              "    }\n",
              "\n",
              "    [theme=dark] .colab-df-convert:hover {\n",
              "      background-color: #434B5C;\n",
              "      box-shadow: 0px 1px 3px 1px rgba(0, 0, 0, 0.15);\n",
              "      filter: drop-shadow(0px 1px 2px rgba(0, 0, 0, 0.3));\n",
              "      fill: #FFFFFF;\n",
              "    }\n",
              "  </style>\n",
              "\n",
              "      <script>\n",
              "        const buttonEl =\n",
              "          document.querySelector('#df-90c39d9c-4745-4e14-921e-10f7522e92f2 button.colab-df-convert');\n",
              "        buttonEl.style.display =\n",
              "          google.colab.kernel.accessAllowed ? 'block' : 'none';\n",
              "\n",
              "        async function convertToInteractive(key) {\n",
              "          const element = document.querySelector('#df-90c39d9c-4745-4e14-921e-10f7522e92f2');\n",
              "          const dataTable =\n",
              "            await google.colab.kernel.invokeFunction('convertToInteractive',\n",
              "                                                     [key], {});\n",
              "          if (!dataTable) return;\n",
              "\n",
              "          const docLinkHtml = 'Like what you see? Visit the ' +\n",
              "            '<a target=\"_blank\" href=https://colab.research.google.com/notebooks/data_table.ipynb>data table notebook</a>'\n",
              "            + ' to learn more about interactive tables.';\n",
              "          element.innerHTML = '';\n",
              "          dataTable['output_type'] = 'display_data';\n",
              "          await google.colab.output.renderOutput(dataTable, element);\n",
              "          const docLink = document.createElement('div');\n",
              "          docLink.innerHTML = docLinkHtml;\n",
              "          element.appendChild(docLink);\n",
              "        }\n",
              "      </script>\n",
              "    </div>\n",
              "  </div>\n",
              "  "
            ]
          },
          "metadata": {},
          "execution_count": 209
        }
      ],
      "source": [
        "df.head()"
      ]
    },
    {
      "cell_type": "markdown",
      "source": [
        "# Data Preprocessing"
      ],
      "metadata": {
        "id": "QWtyb0gAMS9O"
      }
    },
    {
      "cell_type": "markdown",
      "metadata": {
        "id": "H0i3ub6slbvj"
      },
      "source": [
        "### Word Lemmatization\n",
        " Here I have implemented word lemmatization. Either this or Word stemmer should be executed before moving onto modelling. "
      ]
    },
    {
      "cell_type": "code",
      "source": [
        "nltk.download('omw-1.4')\n",
        "\n",
        "wordnet = WordNetLemmatizer()\n",
        "\n",
        "def clean(text):\n",
        "    text=\"\".join([re.sub('[^a-zA-Z]',' ',char) for char in text])\n",
        "    text=text.lower()\n",
        "    text=text.split()\n",
        "    text=[wordnet.lemmatize(word) for word in text if word not in set(stopwords.words(\"english\"))]\n",
        "    text=\" \".join(text)\n",
        "    return text"
      ],
      "metadata": {
        "id": "WISXqXCUM46L",
        "colab": {
          "base_uri": "https://localhost:8080/"
        },
        "outputId": "dc4b51b1-b2e4-4a6f-d626-1588cb81ea3b"
      },
      "execution_count": 210,
      "outputs": [
        {
          "output_type": "stream",
          "name": "stderr",
          "text": [
            "[nltk_data] Downloading package omw-1.4 to /root/nltk_data...\n",
            "[nltk_data]   Package omw-1.4 is already up-to-date!\n"
          ]
        }
      ]
    },
    {
      "cell_type": "code",
      "source": [
        "# Defining a function to handle data cleaning and merging \"title\" , \"author\" columns to form \"content\" column.\n",
        "def data_preprocess(f):\n",
        "  df = pd.read_csv(f)\n",
        "  df = df.fillna('')\n",
        "  df['author'] = df['author'].str.lower()\n",
        "  df['title'] = df['title'].apply(clean)\n",
        "  df['content'] = df['author']+' '+df['title']\n",
        "  X = df['content'].values\n",
        "  return X\n"
      ],
      "metadata": {
        "id": "BQtGURHMO3bb"
      },
      "execution_count": 211,
      "outputs": []
    },
    {
      "cell_type": "code",
      "source": [
        "X_train = data_preprocess('/content/drive/MyDrive/train.csv')\n",
        "X_test = data_preprocess('/content/drive/MyDrive/test.csv')\n"
      ],
      "metadata": {
        "id": "wDNstorQPUrA"
      },
      "execution_count": 212,
      "outputs": []
    },
    {
      "cell_type": "code",
      "source": [
        "X_train.shape"
      ],
      "metadata": {
        "colab": {
          "base_uri": "https://localhost:8080/"
        },
        "id": "YgtGgaIgmfRu",
        "outputId": "a00459de-d199-4189-8c06-145faa492678"
      },
      "execution_count": 213,
      "outputs": [
        {
          "output_type": "execute_result",
          "data": {
            "text/plain": [
              "(20800,)"
            ]
          },
          "metadata": {},
          "execution_count": 213
        }
      ]
    },
    {
      "cell_type": "code",
      "source": [
        "X = np.concatenate((X_train,X_test))\n",
        "X.shape"
      ],
      "metadata": {
        "colab": {
          "base_uri": "https://localhost:8080/"
        },
        "id": "WagSkDeHQRjF",
        "outputId": "3761cf89-1ad3-48f3-f15b-7880f7f84068"
      },
      "execution_count": 214,
      "outputs": [
        {
          "output_type": "execute_result",
          "data": {
            "text/plain": [
              "(26000,)"
            ]
          },
          "metadata": {},
          "execution_count": 214
        }
      ]
    },
    {
      "cell_type": "code",
      "source": [
        "#Converting the textual data into numerical data using vertorizer\n",
        "vectorizer = TfidfVectorizer()\n",
        "vectorizer.fit(X)\n",
        "\n",
        "X = vectorizer.transform(X)"
      ],
      "metadata": {
        "id": "2WrTFpKINcNS"
      },
      "execution_count": 215,
      "outputs": []
    },
    {
      "cell_type": "code",
      "source": [
        "print(X)"
      ],
      "metadata": {
        "colab": {
          "base_uri": "https://localhost:8080/"
        },
        "id": "LTqoEt5tm8dG",
        "outputId": "9674fc24-2ad2-4e46-ac60-e7fcd483715a"
      },
      "execution_count": 216,
      "outputs": [
        {
          "output_type": "stream",
          "name": "stdout",
          "text": [
            "  (0, 21717)\t0.3765282275856044\n",
            "  (0, 18647)\t0.24122769280324974\n",
            "  (0, 12429)\t0.34546267720410156\n",
            "  (0, 12051)\t0.27198938240602144\n",
            "  (0, 10898)\t0.233205808653743\n",
            "  (0, 9864)\t0.20527826772963503\n",
            "  (0, 7092)\t0.2584951207216014\n",
            "  (0, 5309)\t0.28134021239286905\n",
            "  (0, 5015)\t0.3420343924907894\n",
            "  (0, 4057)\t0.22654413040284457\n",
            "  (0, 3403)\t0.34546267720410156\n",
            "  (0, 490)\t0.2766995114340001\n",
            "  (1, 23190)\t0.26512560972323346\n",
            "  (1, 9618)\t0.19425837713877264\n",
            "  (1, 7896)\t0.7271057717680542\n",
            "  (1, 4975)\t0.27015247907294176\n",
            "  (1, 3848)\t0.19468834721222497\n",
            "  (1, 3064)\t0.3704664641648704\n",
            "  (1, 2633)\t0.1574836169039191\n",
            "  (1, 2123)\t0.3005942206504156\n",
            "  (2, 21623)\t0.3995659872102586\n",
            "  (2, 13339)\t0.4731566607341446\n",
            "  (2, 8528)\t0.3441631808852418\n",
            "  (2, 7743)\t0.4628166553574624\n",
            "  (2, 4316)\t0.4382817122414366\n",
            "  :\t:\n",
            "  (25996, 8411)\t0.2460750706836445\n",
            "  (25996, 2147)\t0.1977618344311623\n",
            "  (25996, 139)\t0.26401634218916786\n",
            "  (25997, 23425)\t0.11992985070525936\n",
            "  (25997, 21223)\t0.34047831288728947\n",
            "  (25997, 21164)\t0.11827524025545419\n",
            "  (25997, 20510)\t0.522154932133612\n",
            "  (25997, 14227)\t0.11595459644220861\n",
            "  (25997, 13351)\t0.2964764949768213\n",
            "  (25997, 13072)\t0.3811744833189274\n",
            "  (25997, 7135)\t0.4790744160852925\n",
            "  (25997, 3014)\t0.32696556449198905\n",
            "  (25998, 18132)\t0.3255834289513238\n",
            "  (25998, 14418)\t0.525857858787958\n",
            "  (25998, 12807)\t0.4527195977391389\n",
            "  (25998, 5419)\t0.5360714742605397\n",
            "  (25998, 2466)\t0.3537531391384197\n",
            "  (25999, 23425)\t0.10568618696065499\n",
            "  (25999, 22796)\t0.4267655209494362\n",
            "  (25999, 21164)\t0.10422808901158871\n",
            "  (25999, 20854)\t0.5042594800103256\n",
            "  (25999, 18831)\t0.30401049065137986\n",
            "  (25999, 14749)\t0.48473645507994345\n",
            "  (25999, 14227)\t0.10218306023457045\n",
            "  (25999, 1519)\t0.45136162352011916\n"
          ]
        }
      ]
    },
    {
      "cell_type": "code",
      "source": [
        "X_train = X[:20800]\n",
        "X_test = X[20800:]"
      ],
      "metadata": {
        "id": "8_bm2WmnNiN4"
      },
      "execution_count": 217,
      "outputs": []
    },
    {
      "cell_type": "code",
      "source": [
        "y = df['label'].values\n"
      ],
      "metadata": {
        "id": "1-rJbuHFglbN"
      },
      "execution_count": 218,
      "outputs": []
    },
    {
      "cell_type": "markdown",
      "metadata": {
        "id": "B6mmMYKnlbvh"
      },
      "source": [
        "### Don't execute the following if you are using Word lemmatization. \n",
        "      \n",
        "I have chosen Word Lemmatization as my final word embedding. If Word Stemmer is used then the code needs to be modified as such. "
      ]
    },
    {
      "cell_type": "markdown",
      "metadata": {
        "id": "Dvd2eaqslbvi"
      },
      "source": [
        "### Word Stemmer \n"
      ]
    },
    {
      "cell_type": "code",
      "execution_count": null,
      "metadata": {
        "id": "t6hZjdXZlbvi",
        "outputId": "91722d33-52ae-4b83-fbdf-318cba5d8942",
        "colab": {
          "base_uri": "https://localhost:8080/"
        }
      },
      "outputs": [
        {
          "output_type": "execute_result",
          "data": {
            "text/plain": [
              "0    darrell lucus House Dem Aide: We Didn’t Even S...\n",
              "1    daniel j. flynn FLYNN: Hillary Clinton, Big Wo...\n",
              "2    consortiumnews.com Why the Truth Might Get You...\n",
              "3    jessica purkiss 15 Civilians Killed In Single ...\n",
              "4    howard portnoy Iranian woman jailed for fictio...\n",
              "Name: content, dtype: object"
            ]
          },
          "metadata": {},
          "execution_count": 11
        }
      ],
      "source": [
        "#merging the \"author\" and \"title\" columns to form \"Content\"\n",
        "df['content'] = df['author']+' '+df['title'] #+df['text']\n",
        "df['content'].head()"
      ]
    },
    {
      "cell_type": "code",
      "execution_count": null,
      "metadata": {
        "id": "Lg_NJMpplbvi"
      },
      "outputs": [],
      "source": [
        "#Defining a function \"clean\" to stem to the words in content\n",
        "stemmer = PorterStemmer()\n",
        "def clean(text):\n",
        "    text=\"\".join([re.sub('[^a-zA-Z]',' ',char) for char in text])\n",
        "    text=text.lower()\n",
        "    text=text.split()\n",
        "    text=[stemmer.stem(word) for word in text if word not in set(stopwords.words(\"english\"))]\n",
        "    text=\" \".join(text)\n",
        "    return text"
      ]
    },
    {
      "cell_type": "code",
      "execution_count": null,
      "metadata": {
        "id": "qZztzWWalbvi"
      },
      "outputs": [],
      "source": [
        "df['content'] = df['content'].apply(clean)"
      ]
    },
    {
      "cell_type": "code",
      "execution_count": null,
      "metadata": {
        "id": "Ym5fptvqlbvj"
      },
      "outputs": [],
      "source": [
        "# separating the data & label\n",
        "X = df.drop(columns='label', axis=1)\n",
        "y = df['label']"
      ]
    },
    {
      "cell_type": "code",
      "execution_count": null,
      "metadata": {
        "id": "DMCdG6Oqlbvj",
        "outputId": "c91828a4-4a36-4e0f-c6b2-6c3d0b00fc70"
      },
      "outputs": [
        {
          "name": "stdout",
          "output_type": "stream",
          "text": [
            "0        darrell lucus house dem aide even see comey le...\n",
            "1        daniel j. flynn flynn hillary clinton big woma...\n",
            "2                 consortiumnews.com truth might get fired\n",
            "3        jessica purkiss civilian killed single u airst...\n",
            "4        howard portnoy iranian woman jailed fictional ...\n",
            "                               ...                        \n",
            "20795    jerome hudson rapper trump poster child white ...\n",
            "20796    benjamin hoffman n f l playoff schedule matchu...\n",
            "20797    michael j. de la merced and rachel abrams macy...\n",
            "20798    alex ansary nato russia hold parallel exercise...\n",
            "20799                           david swanson keep f alive\n",
            "Name: content, Length: 20800, dtype: object\n"
          ]
        }
      ],
      "source": [
        "print(df['content'])"
      ]
    },
    {
      "cell_type": "code",
      "execution_count": null,
      "metadata": {
        "id": "S8Xcl2bNlbvk"
      },
      "outputs": [],
      "source": [
        "# separating the data & label\n",
        "X = df.drop(columns='label', axis=1)\n",
        "y = df['label']"
      ]
    },
    {
      "cell_type": "markdown",
      "metadata": {
        "id": "242YSgbTlbvm"
      },
      "source": [
        "# Classification using Logistic Regression"
      ]
    },
    {
      "cell_type": "code",
      "execution_count": null,
      "metadata": {
        "id": "LfGKdd-Nlbv3",
        "outputId": "7469ed95-348d-4ec4-fe36-9e741f5f6e61",
        "colab": {
          "base_uri": "https://localhost:8080/"
        }
      },
      "outputs": [
        {
          "output_type": "execute_result",
          "data": {
            "text/plain": [
              "LogisticRegression()"
            ]
          },
          "metadata": {},
          "execution_count": 142
        }
      ],
      "source": [
        "model = LogisticRegression()\n",
        "model.fit(X_train, y)\n"
      ]
    },
    {
      "cell_type": "code",
      "source": [
        "score_lr = cross_val_score(model, X_train, y, cv =10)"
      ],
      "metadata": {
        "id": "p_HHC2uPpLy_"
      },
      "execution_count": null,
      "outputs": []
    },
    {
      "cell_type": "code",
      "source": [
        "print(\"The mean validaiton score after Logistic Regression on 10 fold CV is : {:.4f}\\nThe standard deviation of the spread is : {:.4f} \"\n",
        "      .format(score_lr.mean(),score_lr.std()))"
      ],
      "metadata": {
        "colab": {
          "base_uri": "https://localhost:8080/"
        },
        "id": "hEvMa_QUpSlH",
        "outputId": "18b0f0a6-236f-4245-87ed-5ee79e4b7656"
      },
      "execution_count": null,
      "outputs": [
        {
          "output_type": "stream",
          "name": "stdout",
          "text": [
            "The mean validaiton score after Logistic Regression on 10 fold CV is : 0.9779\n",
            "The standard deviation of the spread is : 0.0021 \n"
          ]
        }
      ]
    },
    {
      "cell_type": "code",
      "execution_count": null,
      "metadata": {
        "id": "b3pAJnF0lbv4",
        "outputId": "fcd1a5e8-c548-4b6a-dbf4-af2c0b81f80c",
        "colab": {
          "base_uri": "https://localhost:8080/"
        }
      },
      "outputs": [
        {
          "output_type": "execute_result",
          "data": {
            "text/plain": [
              "BaggingClassifier(base_estimator=LogisticRegression(), max_features=15000,\n",
              "                  n_estimators=100, n_jobs=-1, random_state=42)"
            ]
          },
          "metadata": {},
          "execution_count": 150
        }
      ],
      "source": [
        "#Implementing Bagging ensemble on Logistic Regression Classifier\n",
        "from sklearn.ensemble import BaggingClassifier\n",
        "bagging_clf = BaggingClassifier(base_estimator = LogisticRegression(), n_estimators = 100, n_jobs = -1,  max_features = 15000, random_state = 42)\n",
        "bagging_clf.fit(X_train, y)"
      ]
    },
    {
      "cell_type": "code",
      "source": [
        "score_bagging = cross_val_score(bagging_clf, X_train, y, cv =5)"
      ],
      "metadata": {
        "id": "WmwA4Ss2qA5q"
      },
      "execution_count": 226,
      "outputs": []
    },
    {
      "cell_type": "code",
      "source": [
        "print(\"The mean validaiton score after Logistic Regression on 10 fold CV is : {:.4f}\\nThe standard deviation of the spread is : {:.4f} \"\n",
        "      .format(score_bagging.mean(),score_bagging.std()))"
      ],
      "metadata": {
        "id": "i-w3rMsGqKUG",
        "colab": {
          "base_uri": "https://localhost:8080/"
        },
        "outputId": "c27fc6d5-b8d9-4f8b-de54-3f0a2a8e67b1"
      },
      "execution_count": 227,
      "outputs": [
        {
          "output_type": "stream",
          "name": "stdout",
          "text": [
            "The mean validaiton score after Logistic Regression on 10 fold CV is : 0.9718\n",
            "The standard deviation of the spread is : 0.0034 \n"
          ]
        }
      ]
    },
    {
      "cell_type": "markdown",
      "metadata": {
        "id": "6SCzwLyQlbv4"
      },
      "source": [
        "# Classification using XGBoost"
      ]
    },
    {
      "cell_type": "code",
      "execution_count": null,
      "metadata": {
        "id": "PoelLK__lbv5",
        "outputId": "420f1992-8b2f-4235-e6ad-6720f9ea2c4e",
        "colab": {
          "base_uri": "https://localhost:8080/"
        }
      },
      "outputs": [
        {
          "output_type": "execute_result",
          "data": {
            "text/plain": [
              "{'base_score': 0.5,\n",
              " 'booster': 'gbtree',\n",
              " 'colsample_bylevel': 1,\n",
              " 'colsample_bynode': 1,\n",
              " 'colsample_bytree': 1,\n",
              " 'gamma': 0,\n",
              " 'learning_rate': 0.1,\n",
              " 'max_delta_step': 0,\n",
              " 'max_depth': 3,\n",
              " 'min_child_weight': 1,\n",
              " 'missing': None,\n",
              " 'n_estimators': 100,\n",
              " 'n_jobs': 1,\n",
              " 'nthread': None,\n",
              " 'objective': 'binary:logistic',\n",
              " 'random_state': 0,\n",
              " 'reg_alpha': 0,\n",
              " 'reg_lambda': 1,\n",
              " 'scale_pos_weight': 1,\n",
              " 'seed': None,\n",
              " 'silent': None,\n",
              " 'subsample': 1,\n",
              " 'verbosity': 1}"
            ]
          },
          "metadata": {},
          "execution_count": 152
        }
      ],
      "source": [
        "XGBClassifier().get_params()"
      ]
    },
    {
      "cell_type": "code",
      "execution_count": null,
      "metadata": {
        "id": "iOW1be3Jlbv5"
      },
      "outputs": [],
      "source": [
        "model_xgboost = xgboost.XGBClassifier(n_estimators = 100,\n",
        "                                     eval_metric = 'auc')"
      ]
    },
    {
      "cell_type": "code",
      "execution_count": null,
      "metadata": {
        "id": "dDO2lCTTlbv5"
      },
      "outputs": [],
      "source": [
        "from sklearn.model_selection import cross_val_score\n",
        "score = cross_val_score(model_xgboost, X_train, y, cv =10)"
      ]
    },
    {
      "cell_type": "code",
      "execution_count": null,
      "metadata": {
        "id": "loQBFDbklbv5",
        "outputId": "64ab957e-fe17-4548-d2f7-66484ff89336",
        "colab": {
          "base_uri": "https://localhost:8080/"
        }
      },
      "outputs": [
        {
          "output_type": "stream",
          "name": "stdout",
          "text": [
            "The mean validaiton score on 10 fold CV is : 0.9550\n",
            "The standard deviation of the spread is : 0.0055 \n"
          ]
        }
      ],
      "source": [
        "print(\"The mean validaiton score on 10 fold CV is : {:.4f}\\nThe standard deviation of the spread is : {:.4f} \"\n",
        "      .format(score.mean(),score.std()))\n"
      ]
    },
    {
      "cell_type": "markdown",
      "metadata": {
        "id": "FLo2BzU_lbv6"
      },
      "source": [
        "## Hyperparameter tuning on XGBoost"
      ]
    },
    {
      "cell_type": "code",
      "execution_count": null,
      "metadata": {
        "id": "IHB-jKa7lbv6"
      },
      "outputs": [],
      "source": [
        "classifier = XGBClassifier()"
      ]
    },
    {
      "cell_type": "code",
      "execution_count": null,
      "metadata": {
        "id": "274DWx6-lbv6"
      },
      "outputs": [],
      "source": [
        "#Selecting superset of parameters to train on\n",
        "params = {\n",
        "    \"learning_rate\" : [0.01, 0.10, 0.25, 0.5, 1],\n",
        "    \"max_depth\" : [3,5,10],\n",
        "    \"min_child_weight\" : [1,3,5,7, 10, 13,17, 20],\n",
        "    \"gamma\" : [0.0, 0.1, 0.2, 0.3, 0.4, 0.5, 0.6, 0.7, 0.8, 0.9],\n",
        "    \"colsample_bytree\" : [0.3, 0.4, 0.5, 0.7, 1],\n",
        "    \n",
        "}"
      ]
    },
    {
      "cell_type": "markdown",
      "metadata": {
        "id": "mttHoURalbv6"
      },
      "source": [
        "### RandomizedSearchCV"
      ]
    },
    {
      "cell_type": "code",
      "execution_count": null,
      "metadata": {
        "id": "QNyKDD5ylbv6"
      },
      "outputs": [],
      "source": [
        "#Hyperparameter tuning using Randomized Search CV\n",
        "random_search =  RandomizedSearchCV(classifier, \n",
        "                                    param_distributions = params, \n",
        "                                    n_iter=10, #random_state = 1,\n",
        "                                    scoring =\"accuracy\",  n_jobs =-1, cv=10, verbose =3)"
      ]
    },
    {
      "cell_type": "code",
      "execution_count": null,
      "metadata": {
        "id": "fnVnssF9lbv6",
        "outputId": "e45fc6fa-73f2-4b6d-b5f1-e14cd3748301",
        "colab": {
          "base_uri": "https://localhost:8080/"
        }
      },
      "outputs": [
        {
          "output_type": "stream",
          "name": "stdout",
          "text": [
            "Fitting 10 folds for each of 10 candidates, totalling 100 fits\n"
          ]
        },
        {
          "output_type": "execute_result",
          "data": {
            "text/plain": [
              "RandomizedSearchCV(cv=10, estimator=XGBClassifier(), n_jobs=-1,\n",
              "                   param_distributions={'colsample_bytree': [0.3, 0.4, 0.5, 0.7,\n",
              "                                                             1],\n",
              "                                        'gamma': [0.0, 0.1, 0.2, 0.3, 0.4, 0.5,\n",
              "                                                  0.6, 0.7, 0.8, 0.9],\n",
              "                                        'learning_rate': [0.01, 0.1, 0.25, 0.5,\n",
              "                                                          1],\n",
              "                                        'max_depth': [3, 5, 10],\n",
              "                                        'min_child_weight': [1, 3, 5, 7, 10, 13,\n",
              "                                                             17, 20]},\n",
              "                   scoring='accuracy', verbose=3)"
            ]
          },
          "metadata": {},
          "execution_count": 160
        }
      ],
      "source": [
        "random_search.fit(X_train,y)"
      ]
    },
    {
      "cell_type": "code",
      "execution_count": null,
      "metadata": {
        "id": "dkU_yXHXlbv7",
        "outputId": "c255f470-88d9-4ebc-8ebd-a917d18f9e57",
        "colab": {
          "base_uri": "https://localhost:8080/"
        }
      },
      "outputs": [
        {
          "output_type": "execute_result",
          "data": {
            "text/plain": [
              "{'colsample_bytree': 1,\n",
              " 'gamma': 0.1,\n",
              " 'learning_rate': 0.25,\n",
              " 'max_depth': 10,\n",
              " 'min_child_weight': 3}"
            ]
          },
          "metadata": {},
          "execution_count": 161
        }
      ],
      "source": [
        "#Getting the best params from Random search\n",
        "random_search.best_params_"
      ]
    },
    {
      "cell_type": "code",
      "execution_count": null,
      "metadata": {
        "id": "mlrZ2F1Slbv7"
      },
      "outputs": [],
      "source": [
        "#Fitting the model with the best params we got\n",
        "classifier = xgboost.XGBClassifier(min_child_weight= 1,\n",
        "  max_depth= 9,\n",
        "  learning_rate= 0.5,\n",
        "  gamma= 0.7,\n",
        "  colsample_bytree= 1,n_estimators = 100,eval_metric = 'auc')"
      ]
    },
    {
      "cell_type": "code",
      "execution_count": null,
      "metadata": {
        "id": "CBe7xjFulbv7"
      },
      "outputs": [],
      "source": [
        "score_r = cross_val_score(classifier, X_train, y, cv =10, scoring = 'accuracy')\n"
      ]
    },
    {
      "cell_type": "code",
      "execution_count": null,
      "metadata": {
        "id": "7QsQDq5Ilbv7",
        "outputId": "7f30e9b1-1468-4f48-e2a0-61923ca39a8d",
        "colab": {
          "base_uri": "https://localhost:8080/"
        }
      },
      "outputs": [
        {
          "output_type": "stream",
          "name": "stdout",
          "text": [
            "The mean validaiton score on 10 fold CV using RandomizedSearchCV : 0.9915\n",
            "The standard deviation of the spread is : 0.0025 \n"
          ]
        }
      ],
      "source": [
        "print(\"The mean validaiton score on 10 fold CV using RandomizedSearchCV : {:.4f}\\nThe standard deviation of the spread is : {:.4f} \"\n",
        "      .format(score_r.mean(),score_r.std()))\n"
      ]
    },
    {
      "cell_type": "markdown",
      "metadata": {
        "id": "aVvF4aXulbv7"
      },
      "source": [
        "### GridSearchCV"
      ]
    },
    {
      "cell_type": "code",
      "execution_count": null,
      "metadata": {
        "id": "Nyje8lkwlbv8",
        "outputId": "57621ef4-6e4f-40f0-eff4-df0560ac18d2",
        "colab": {
          "base_uri": "https://localhost:8080/"
        }
      },
      "outputs": [
        {
          "output_type": "execute_result",
          "data": {
            "text/plain": [
              "{'colsample_bytree': 1,\n",
              " 'gamma': 0.1,\n",
              " 'learning_rate': 0.25,\n",
              " 'max_depth': 10,\n",
              " 'min_child_weight': 3}"
            ]
          },
          "metadata": {},
          "execution_count": 165
        }
      ],
      "source": [
        "random_search.best_params_"
      ]
    },
    {
      "cell_type": "code",
      "execution_count": null,
      "metadata": {
        "id": "TjQOW5Vklbv8"
      },
      "outputs": [],
      "source": [
        "params2 = {\n",
        "    \"learning_rate\" : [0.25, 0.5, 1],\n",
        "    \"max_depth\" : [5,9, 10],\n",
        "    \"min_child_weight\" : [1,3],\n",
        "    \"gamma\" : [ 0.1, 0.3, 0.5, 0.7],\n",
        "    \"colsample_bytree\" : [ 0.5, 0.7, 1]\n",
        "    \n",
        "}"
      ]
    },
    {
      "cell_type": "code",
      "execution_count": null,
      "metadata": {
        "id": "aDXrgzMnlbv8"
      },
      "outputs": [],
      "source": [
        "grid_search = GridSearchCV( \n",
        "    estimator = classifier, param_grid = params2, scoring =\"accuracy\", n_jobs =-1, cv=5, verbose =3)\n",
        "\n",
        "grid_search = grid_search.fit(X_train,y)\n",
        "\n",
        "#print(model.best_score_)\n",
        "#print(model.best_estimator_.get_params())"
      ]
    },
    {
      "cell_type": "code",
      "execution_count": null,
      "metadata": {
        "id": "GuohE-Molbv8",
        "outputId": "34ea5a60-671b-4e10-e2a8-027b48b5fe26"
      },
      "outputs": [
        {
          "data": {
            "text/plain": [
              "{'colsample_bytree': 1,\n",
              " 'gamma': 0.7,\n",
              " 'learning_rate': 0.5,\n",
              " 'max_depth': 9,\n",
              " 'min_child_weight': 1}"
            ]
          },
          "execution_count": 374,
          "metadata": {},
          "output_type": "execute_result"
        }
      ],
      "source": [
        "grid_search.best_params_\n"
      ]
    },
    {
      "cell_type": "code",
      "execution_count": null,
      "metadata": {
        "id": "Snjj2rHYlbv8"
      },
      "outputs": [],
      "source": [
        "#Fitting the model with the best params we got\n",
        "classifier = xgboost.XGBClassifier(min_child_weight= 1,\n",
        "  max_depth= 9,\n",
        "  learning_rate= 0.5,\n",
        "  gamma= 0.7,\n",
        "  colsample_bytree= 1,n_estimators = 100,eval_metric = 'auc')"
      ]
    },
    {
      "cell_type": "code",
      "execution_count": null,
      "metadata": {
        "id": "AlmryXTZlbv9"
      },
      "outputs": [],
      "source": [
        "#Using Stratified Kfold validation for accuracy\n",
        "skf = StratifiedKFold(n_splits=10)\n",
        "\n",
        "score_g = cross_val_score(classifier, X_train, y, cv =skf, scoring = 'accuracy')"
      ]
    },
    {
      "cell_type": "code",
      "execution_count": null,
      "metadata": {
        "id": "pMGfEb2Rlbv9",
        "outputId": "aa2033a0-d6b5-4add-ea91-2dd2e33806ed"
      },
      "outputs": [
        {
          "name": "stdout",
          "output_type": "stream",
          "text": [
            "The mean validaiton score on 10 fold CV using GridSearchCV : 0.9915\n",
            "The standard deviation of the spread is : 0.0021 \n"
          ]
        }
      ],
      "source": [
        "print(\"The mean validaiton score on 10 fold CV using GridSearchCV : {:.4f}\\nThe standard deviation of the spread is : {:.4f} \"\n",
        "      .format(score_g.mean(),score_g.std()))\n"
      ]
    },
    {
      "cell_type": "markdown",
      "metadata": {
        "id": "yeIQajgQlbv-"
      },
      "source": [
        "### Bayesian Optimization using HyperOpt"
      ]
    },
    {
      "cell_type": "code",
      "execution_count": null,
      "metadata": {
        "id": "e-XTqq2klbv-"
      },
      "outputs": [],
      "source": [
        "from sklearn.metrics import precision_recall_fscore_support as score\n",
        "from hyperopt import tpe, STATUS_OK, Trials, hp, fmin, space_eval"
      ]
    },
    {
      "cell_type": "code",
      "execution_count": null,
      "metadata": {
        "id": "xK3OcJMflbv_",
        "outputId": "0563fdcd-c602-4862-da18-b39628123404"
      },
      "outputs": [
        {
          "name": "stdout",
          "output_type": "stream",
          "text": [
            "100%|█████████████████████████████████████████████| 100/100 [23:17<00:00, 13.97s/trial, best loss: -0.9935096153846154]\n"
          ]
        }
      ],
      "source": [
        "# Space\n",
        "space = {\n",
        "    'learning_rate': hp.choice('learning_rate', [ 0.01, 0.1, 0.25, 0.5, 1]),\n",
        "    'max_depth' : hp.choice('max_depth', [3,5,9,10,11]),\n",
        "    'min_child_weight' : hp.choice('min_child_weight', range(1,5)),\n",
        "    'gamma' : hp.choice('gamma', [i/10.0 for i in range(0,10)]),\n",
        "    'colsample_bytree' : hp.choice('colsample_bytree', [i/10.0 for i in range(3,11)])\n",
        "    #'reg_alpha' : hp.choice('reg_alpha', [0, 1e-5, 1e-2, 0.1, 1, 10, 100]), \n",
        "    #'reg_lambda' : hp.choice('reg_lambda', [1e-5, 1e-2, 0.1, 1, 10, 100])\n",
        "}\n",
        "# Set up the k-fold cross-validation\n",
        "kfold = StratifiedKFold(n_splits=5)\n",
        "# Objective function\n",
        "def objective(params):\n",
        "    \n",
        "    xgboost = XGBClassifier(seed=42, **params)\n",
        "    scores = cross_val_score(xgboost, X_train, y, cv=kfold, scoring='accuracy', n_jobs=-1)\n",
        "    # Extract the best score\n",
        "    best_score = max(scores)\n",
        "    # Loss must be minimized\n",
        "    loss = - best_score\n",
        "    # Dictionary with information for evaluation\n",
        "    return {'loss': loss, 'params': params, 'status': STATUS_OK}\n",
        "# Trials to track progress\n",
        "bayes_trials = Trials()\n",
        "# Optimize\n",
        "best = fmin(fn = objective, space = space, algo = tpe.suggest, max_evals = 100, trials = bayes_trials)"
      ]
    },
    {
      "cell_type": "code",
      "execution_count": null,
      "metadata": {
        "id": "iySGKrOMlbv_",
        "outputId": "a5d78254-0dd9-45bb-96ee-20de06e7d0b5"
      },
      "outputs": [
        {
          "name": "stdout",
          "output_type": "stream",
          "text": [
            "{'colsample_bytree': 1.0, 'gamma': 0.1, 'learning_rate': 0.5, 'max_depth': 9, 'min_child_weight': 1}\n"
          ]
        }
      ],
      "source": [
        "# Print the index of the best parameters\n",
        "# print(best)\n",
        "# Print the values of the best parameters\n",
        "print(space_eval(space, best))\n"
      ]
    },
    {
      "cell_type": "code",
      "execution_count": null,
      "metadata": {
        "id": "z9XR1Sdelbv_"
      },
      "outputs": [],
      "source": [
        "#Fitting the model with the best params we got\n",
        "classifier = xgboost.XGBClassifier(min_child_weight= 1,\n",
        "  max_depth= 9,\n",
        "  learning_rate= 0.5,\n",
        "  gamma= 0.1,\n",
        "  colsample_bytree= 1,\n",
        "  n_estimators = 100,eval_metric = 'auc')"
      ]
    },
    {
      "cell_type": "code",
      "execution_count": null,
      "metadata": {
        "id": "UVm-JJdPlbv_"
      },
      "outputs": [],
      "source": [
        "#Using Stratified Kfold validation for accuracy\n",
        "skf = StratifiedKFold(n_splits=10)\n",
        "score_b = cross_val_score(classifier, X_train, y, cv =skf, scoring = 'accuracy')"
      ]
    },
    {
      "cell_type": "code",
      "execution_count": null,
      "metadata": {
        "id": "FUV84udClbv_",
        "outputId": "725a0ef1-99d9-4d30-fffc-caf34c1f9bc8"
      },
      "outputs": [
        {
          "name": "stdout",
          "output_type": "stream",
          "text": [
            "The mean validaiton score on 10 fold CV using GridSearchCV : 0.9916 \n",
            "The standard deviation of the spread is : 0.0023\n"
          ]
        }
      ],
      "source": [
        "print(\"The mean validaiton score on 10 fold CV using GridSearchCV : {:.4f} \\nThe standard deviation of the spread is : {:.4f}\"\n",
        "      .format(score_b.mean(),score_b.std()))\n"
      ]
    },
    {
      "cell_type": "markdown",
      "metadata": {
        "id": "9MkCOjVZlbwA"
      },
      "source": [
        "### TPOT Classifier"
      ]
    },
    {
      "cell_type": "code",
      "execution_count": null,
      "metadata": {
        "id": "rkYwkncPlbwA"
      },
      "outputs": [],
      "source": [
        "import torch\n",
        "from torch import nn\n",
        "from tpot import TPOTClassifier"
      ]
    },
    {
      "cell_type": "code",
      "execution_count": null,
      "metadata": {
        "id": "v0wP_7YklbwA"
      },
      "outputs": [],
      "source": [
        "params_tpot = {\n",
        "    \"learning_rate\" : [0.1, 0.25, 0.5, 1],\n",
        "    \"max_depth\" : [3,5,9,11],\n",
        "    \"min_child_weight\" : [1,3],\n",
        "    \"gamma\" : [0.0,0.1,0.3, 0.5, 0.6, 0.7],\n",
        "    \"colsample_bytree\" : [0.4, 0.5, 0.7, 1]\n",
        "    \n",
        "}"
      ]
    },
    {
      "cell_type": "code",
      "execution_count": null,
      "metadata": {
        "id": "QVBR5RjelbwA",
        "outputId": "4195c1ec-f9a1-4628-d6bb-cd03f79e32d5",
        "colab": {
          "referenced_widgets": [
            ""
          ]
        }
      },
      "outputs": [
        {
          "name": "stdout",
          "output_type": "stream",
          "text": [
            "Warning: Since the input matrix is a sparse matrix, please makes sure all the operators in the customized config dictionary supports sparse matriies.\n"
          ]
        },
        {
          "data": {
            "application/vnd.jupyter.widget-view+json": {
              "model_id": "",
              "version_major": 2,
              "version_minor": 0
            },
            "text/plain": [
              "HBox(children=(FloatProgress(value=0.0, description='Optimization Progress', max=144.0, style=ProgressStyle(de…"
            ]
          },
          "metadata": {},
          "output_type": "display_data"
        },
        {
          "name": "stdout",
          "output_type": "stream",
          "text": [
            "\n",
            "Generation 1 - Current best internal CV score: 0.9907211538461539\n",
            "\n",
            "Generation 2 - Current best internal CV score: 0.9907211538461539\n",
            "\n",
            "Generation 3 - Current best internal CV score: 0.9910096153846155\n",
            "\n",
            "Generation 4 - Current best internal CV score: 0.9910096153846155\n",
            "\n",
            "Generation 5 - Current best internal CV score: 0.9910096153846155\n",
            "\n",
            "Generation 6 - Current best internal CV score: 0.9910096153846155\n",
            "\n",
            "Generation 7 - Current best internal CV score: 0.9910096153846155\n",
            "\n",
            "Generation 8 - Current best internal CV score: 0.9910096153846155\n",
            "\n",
            "Generation 9 - Current best internal CV score: 0.9910096153846155\n",
            "\n",
            "Generation 10 - Current best internal CV score: 0.9910096153846155\n",
            "\n",
            "Best pipeline: XGBClassifier(CombineDFs(input_matrix, input_matrix), colsample_bytree=0.5, gamma=0.5, learning_rate=0.5, max_depth=9, min_child_weight=1)\n"
          ]
        },
        {
          "data": {
            "text/plain": [
              "TPOTClassifier(config_dict={'xgboost.XGBClassifier': {'colsample_bytree': [0.4,\n",
              "                                                                           0.5,\n",
              "                                                                           0.7,\n",
              "                                                                           1],\n",
              "                                                      'gamma': [0.0, 0.1, 0.3,\n",
              "                                                                0.5, 0.6, 0.7],\n",
              "                                                      'learning_rate': [0.1,\n",
              "                                                                        0.25,\n",
              "                                                                        0.5,\n",
              "                                                                        1],\n",
              "                                                      'max_depth': [3, 5, 9,\n",
              "                                                                    11],\n",
              "                                                      'min_child_weight': [1,\n",
              "                                                                           3]}},\n",
              "               crossover_rate=0.1, cv=5, disable_update_check=False,\n",
              "               early_stop=12, generations=10, log_file=None,\n",
              "               max_eval_time_mins=5, max_time_mins=None, memory=None,\n",
              "               mutation_rate=0.9, n_jobs=1, offspring_size=12,\n",
              "               periodic_checkpoint_folder=None, population_size=24,\n",
              "               random_state=42, scoring='accuracy', subsample=1.0,\n",
              "               template=None, use_dask=False, verbosity=2, warm_start=False)"
            ]
          },
          "execution_count": 400,
          "metadata": {},
          "output_type": "execute_result"
        }
      ],
      "source": [
        "tpot_classifier = TPOTClassifier(generations =10, population_size = 24, offspring_size = 12,\n",
        "                              verbosity = 2, early_stop = 12, random_state = 42,\n",
        "                              config_dict = {'xgboost.XGBClassifier' : params_tpot},\n",
        "                               cv = 5, scoring = 'accuracy') #cv = 5\n",
        "\n",
        "#skf = StratifiedKFold(n_splits=5)\n",
        "#score_tpot = cross_val_score(tpot_classifier, X, y, cv =skf, scoring = 'accuracy')\n",
        "tpot_classifier.fit(X_train, y) ##if cv = 5 is passed as a parameter inside TPOTClassifier then run this. "
      ]
    },
    {
      "cell_type": "code",
      "execution_count": null,
      "metadata": {
        "id": "gjskAZISlbwA"
      },
      "outputs": [],
      "source": [
        "#Fitting the model with the best params we got\n",
        "classifier = xgboost.XGBClassifier(min_child_weight= 1,\n",
        "  max_depth= 9,\n",
        "  learning_rate= 0.5,\n",
        "  gamma= 0.5,\n",
        "  colsample_bytree= 0.5,\n",
        "  n_estimators = 100,eval_metric = 'auc')"
      ]
    },
    {
      "cell_type": "code",
      "execution_count": null,
      "metadata": {
        "id": "wJA4Tp0YlbwB"
      },
      "outputs": [],
      "source": [
        "#Using Stratified Kfold validation for accuracy\n",
        "skf = StratifiedKFold(n_splits=10)\n",
        "score_tpot = cross_val_score(classifier, X_train, y, cv =skf, scoring = 'accuracy')"
      ]
    },
    {
      "cell_type": "code",
      "execution_count": null,
      "metadata": {
        "id": "mBi0YHUUlbwB",
        "outputId": "7eb55377-32ce-4b1f-96ad-dd30d4aca4b5"
      },
      "outputs": [
        {
          "name": "stdout",
          "output_type": "stream",
          "text": [
            "The mean validaiton score on 10 fold CV using TPOTClassifier : 0.9917 \n",
            "The standard deviation of the spread is : 0.0023\n"
          ]
        }
      ],
      "source": [
        "print(\"The mean validaiton score on 10 fold CV using TPOTClassifier : {:.4f} \\nThe standard deviation of the spread is : {:.4f}\"\n",
        "      .format(score_tpot.mean(),score_tpot.std()))"
      ]
    },
    {
      "cell_type": "code",
      "execution_count": null,
      "metadata": {
        "id": "yhNz0sOflbwB"
      },
      "outputs": [],
      "source": [
        "#accuracy = tpot_classifier.score(X_test, y_test)\n",
        "#print('The accuracy on test data is :' ,accuracy)\n",
        "#print(score_tpot.mean())"
      ]
    },
    {
      "cell_type": "code",
      "execution_count": null,
      "metadata": {
        "id": "YBPdfqF7lbwB"
      },
      "outputs": [],
      "source": [
        "#skf = StratifiedKFold(n_splits=5)\n",
        "#score_tpot = cross_val_score(tpot_classifier, X, y, cv =skf, scoring = 'accuracy')"
      ]
    },
    {
      "cell_type": "code",
      "execution_count": null,
      "metadata": {
        "id": "vUr5rGQwlbwB"
      },
      "outputs": [],
      "source": [
        "#score_tpot.mean()"
      ]
    },
    {
      "cell_type": "code",
      "execution_count": null,
      "metadata": {
        "id": "Eg9gc8NolbwB"
      },
      "outputs": [],
      "source": [
        ""
      ]
    },
    {
      "cell_type": "markdown",
      "metadata": {
        "id": "EJpLg6kZlbwB"
      },
      "source": [
        "# Classification using AdaBoost"
      ]
    },
    {
      "cell_type": "code",
      "execution_count": null,
      "metadata": {
        "id": "Mm77q0vjlbwC"
      },
      "outputs": [],
      "source": [
        "from sklearn.tree import DecisionTreeClassifier\n",
        "from sklearn.ensemble import AdaBoostClassifier"
      ]
    },
    {
      "cell_type": "code",
      "execution_count": null,
      "metadata": {
        "id": "sKMeZZkklbwC",
        "outputId": "114aef33-ae29-4188-fe4a-68a9e3897cd2",
        "colab": {
          "base_uri": "https://localhost:8080/"
        }
      },
      "outputs": [
        {
          "output_type": "execute_result",
          "data": {
            "text/plain": [
              "{'algorithm': 'SAMME.R',\n",
              " 'base_estimator': None,\n",
              " 'learning_rate': 1.0,\n",
              " 'n_estimators': 50,\n",
              " 'random_state': None}"
            ]
          },
          "metadata": {},
          "execution_count": 182
        }
      ],
      "source": [
        "AdaBoostClassifier().get_params()"
      ]
    },
    {
      "cell_type": "code",
      "execution_count": null,
      "metadata": {
        "id": "PMYt1OMrlbwC"
      },
      "outputs": [],
      "source": [
        "tree = DecisionTreeClassifier(criterion = 'gini',\n",
        "                              random_state = 42,\n",
        "                              )"
      ]
    },
    {
      "cell_type": "code",
      "execution_count": null,
      "metadata": {
        "id": "T1_7yzEQlbwC"
      },
      "outputs": [],
      "source": [
        "boost = AdaBoostClassifier(base_estimator = tree,\n",
        "                           n_estimators = 100,\n",
        "                           algorithm = 'SAMME.R',\n",
        "                           random_state = 42)\n",
        "\n",
        "#boost.fit(X_train, y_train)"
      ]
    },
    {
      "cell_type": "code",
      "execution_count": null,
      "metadata": {
        "id": "KcjO0KOdlbwC"
      },
      "outputs": [],
      "source": [
        "score_ada = cross_val_score(boost, X_train, y, cv =10)"
      ]
    },
    {
      "cell_type": "code",
      "execution_count": null,
      "metadata": {
        "id": "V9uHRhVmlbwC",
        "outputId": "54c3562b-db79-4174-cb0a-1a48e039a87a",
        "colab": {
          "base_uri": "https://localhost:8080/"
        }
      },
      "outputs": [
        {
          "output_type": "stream",
          "name": "stdout",
          "text": [
            "The mean validaiton score on 10 fold CV : 0.9936 \n",
            "The standard deviation of the spread is : 0.0013\n"
          ]
        }
      ],
      "source": [
        "print(\"The mean validaiton score on 10 fold CV : {:.4f} \\nThe standard deviation of the spread is : {:.4f}\"\n",
        "      .format(score_ada.mean(),score_ada.std()))"
      ]
    },
    {
      "cell_type": "markdown",
      "source": [
        "## GridSearchCV on AdaBoost : "
      ],
      "metadata": {
        "id": "CsoVP8kL92OJ"
      }
    },
    {
      "cell_type": "code",
      "execution_count": 219,
      "metadata": {
        "id": "wDjCI038lbwD"
      },
      "outputs": [],
      "source": [
        "boost_g = AdaBoostClassifier(base_estimator=DecisionTreeClassifier(criterion = 'gini',random_state = 42))"
      ]
    },
    {
      "cell_type": "code",
      "execution_count": 220,
      "metadata": {
        "id": "EW5g_kjslbwD"
      },
      "outputs": [],
      "source": [
        "params_ada = {\n",
        "    \"learning_rate\" : [ 0.25, 0.5, 1],\n",
        "    \"n_estimators\" : [50, 100, 200],\n",
        "    \"algorithm\" : ['SAMME', 'SAMME.R'],\n",
        "    \n",
        "}"
      ]
    },
    {
      "cell_type": "code",
      "source": [
        "grid_search = GridSearchCV(estimator = boost_g,  param_grid = params_ada,  scoring =\"accuracy\", n_jobs =-1, cv=5, verbose =3)\n",
        "grid_search = grid_search.fit(X_train,y)"
      ],
      "metadata": {
        "colab": {
          "base_uri": "https://localhost:8080/"
        },
        "id": "Mv-7XpyjH-oj",
        "outputId": "91b288f7-8700-433a-9add-5bd14985439a"
      },
      "execution_count": 221,
      "outputs": [
        {
          "output_type": "stream",
          "name": "stdout",
          "text": [
            "Fitting 5 folds for each of 18 candidates, totalling 90 fits\n"
          ]
        }
      ]
    },
    {
      "cell_type": "code",
      "source": [
        "grid_search.best_params_"
      ],
      "metadata": {
        "id": "3TkdYtKAAB8a",
        "colab": {
          "base_uri": "https://localhost:8080/"
        },
        "outputId": "b0daa5dc-c7bd-4ffe-f935-c9bce2a37707"
      },
      "execution_count": null,
      "outputs": [
        {
          "output_type": "execute_result",
          "data": {
            "text/plain": [
              "{'algorithm': 'SAMME', 'learning_rate': 1, 'n_estimators': 50}"
            ]
          },
          "metadata": {},
          "execution_count": 95
        }
      ]
    },
    {
      "cell_type": "code",
      "source": [
        "#Fitting the model with the best params we got\n",
        "\n",
        "classifier = AdaBoostClassifier(base_estimator=DecisionTreeClassifier(criterion = 'gini',random_state = 42),\n",
        "  learning_rate = 1,\n",
        "  n_estimators = 50,\n",
        "  algorithm = 'SAMME')\n",
        "\n",
        "\n",
        "'''\n",
        "\n",
        "classifier = AdaBoostClassifier(base_estimator=DecisionTreeClassifier(criterion = 'gini',random_state = 42),\n",
        "  learning_rate = 0.25,\n",
        "  n_estimators = 150,\n",
        "  algorithm = 'SAMME.R')\n",
        "'''"
      ],
      "metadata": {
        "id": "bjKtQqPnJZ5k",
        "colab": {
          "base_uri": "https://localhost:8080/",
          "height": 53
        },
        "outputId": "274c658c-9387-4b28-83a4-f9033ec3dc19"
      },
      "execution_count": 222,
      "outputs": [
        {
          "output_type": "execute_result",
          "data": {
            "text/plain": [
              "\"\\n\\nclassifier = AdaBoostClassifier(base_estimator=DecisionTreeClassifier(criterion = 'gini',random_state = 42),\\n  learning_rate = 0.25,\\n  n_estimators = 150,\\n  algorithm = 'SAMME.R')\\n\""
            ],
            "application/vnd.google.colaboratory.intrinsic+json": {
              "type": "string"
            }
          },
          "metadata": {},
          "execution_count": 222
        }
      ]
    },
    {
      "cell_type": "code",
      "source": [
        "skf = StratifiedKFold(n_splits=10)\n",
        "\n",
        "score_g = cross_val_score(classifier, X_train, y, cv =skf, scoring = 'accuracy')"
      ],
      "metadata": {
        "id": "JWieuOcaKkVa"
      },
      "execution_count": 223,
      "outputs": []
    },
    {
      "cell_type": "code",
      "source": [
        "print(\"The mean validaiton score on 10 fold CV : {:.4f} \\nThe standard deviation of the spread is : {:.4f}\"\n",
        "      .format(score_ada.mean(),score_ada.std()))"
      ],
      "metadata": {
        "colab": {
          "base_uri": "https://localhost:8080/"
        },
        "id": "xkxrA8moKpMt",
        "outputId": "3ae9407a-8781-4ef0-c13a-d95c3b156516"
      },
      "execution_count": 224,
      "outputs": [
        {
          "output_type": "stream",
          "name": "stdout",
          "text": [
            "The mean validaiton score on 10 fold CV : 0.9936 \n",
            "The standard deviation of the spread is : 0.0013\n"
          ]
        }
      ]
    },
    {
      "cell_type": "code",
      "source": [
        "score_ada"
      ],
      "metadata": {
        "colab": {
          "base_uri": "https://localhost:8080/"
        },
        "id": "CsWfsLn-KvHI",
        "outputId": "d22a08fb-a832-4ee9-dd4a-7453739b8f26"
      },
      "execution_count": 225,
      "outputs": [
        {
          "output_type": "execute_result",
          "data": {
            "text/plain": [
              "array([0.99423077, 0.99567308, 0.99134615, 0.99375   , 0.99471154,\n",
              "       0.99375   , 0.99375   , 0.99182692, 0.99471154, 0.99230769])"
            ]
          },
          "metadata": {},
          "execution_count": 225
        }
      ]
    },
    {
      "cell_type": "markdown",
      "source": [
        "#Submission File"
      ],
      "metadata": {
        "id": "8pCv50VtTr5F"
      }
    },
    {
      "cell_type": "markdown",
      "source": [
        "**Choose the highest performing Classifier to fit the whole training dataset.**\n",
        "\n",
        "\n"
      ],
      "metadata": {
        "id": "szIdSdh0sgfY"
      }
    },
    {
      "cell_type": "code",
      "source": [
        "classifier.fit(X_train,y)"
      ],
      "metadata": {
        "colab": {
          "base_uri": "https://localhost:8080/"
        },
        "id": "OZJbGklOK_jV",
        "outputId": "d1144d34-ae32-49a0-dffc-84aaa40a817c"
      },
      "execution_count": null,
      "outputs": [
        {
          "output_type": "execute_result",
          "data": {
            "text/plain": [
              "AdaBoostClassifier(algorithm='SAMME',\n",
              "                   base_estimator=DecisionTreeClassifier(random_state=42),\n",
              "                   learning_rate=1)"
            ]
          },
          "metadata": {},
          "execution_count": 101
        }
      ]
    },
    {
      "cell_type": "code",
      "source": [
        "y_test = classifier.predict(X_test)"
      ],
      "metadata": {
        "id": "5iAn38rYOH9Q"
      },
      "execution_count": null,
      "outputs": []
    },
    {
      "cell_type": "code",
      "source": [
        "df_sub = pd.read_csv('/content/drive/MyDrive/submit.csv')\n",
        "for i in range(len(df_sub)):\n",
        "  df_sub['label'][i] = y_test[i]\n",
        "\n",
        "df_sub.to_csv('submit_final.csv', index=False)\n"
      ],
      "metadata": {
        "id": "9m1JwpYATubk"
      },
      "execution_count": null,
      "outputs": []
    },
    {
      "cell_type": "code",
      "source": [
        ""
      ],
      "metadata": {
        "id": "vlE1gdYhUHFE"
      },
      "execution_count": null,
      "outputs": []
    }
  ],
  "metadata": {
    "kernelspec": {
      "display_name": "Python 3",
      "language": "python",
      "name": "python3"
    },
    "language_info": {
      "codemirror_mode": {
        "name": "ipython",
        "version": 3
      },
      "file_extension": ".py",
      "mimetype": "text/x-python",
      "name": "python",
      "nbconvert_exporter": "python",
      "pygments_lexer": "ipython3",
      "version": "3.7.6"
    },
    "colab": {
      "name": "Fake_News_Detection_new.ipynb",
      "provenance": [],
      "collapsed_sections": [],
      "toc_visible": true
    }
  },
  "nbformat": 4,
  "nbformat_minor": 0
}